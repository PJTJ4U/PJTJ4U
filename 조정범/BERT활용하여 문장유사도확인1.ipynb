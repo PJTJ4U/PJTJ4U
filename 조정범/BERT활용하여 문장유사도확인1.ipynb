{
 "cells": [
  {
   "cell_type": "code",
   "execution_count": 1,
   "metadata": {},
   "outputs": [],
   "source": [
    "import numpy as np\n",
    "import pandas as pd\n",
    "import tensorflow"
   ]
  },
  {
   "cell_type": "code",
   "execution_count": 31,
   "metadata": {},
   "outputs": [
    {
     "name": "stderr",
     "output_type": "stream",
     "text": [
      "C:\\Users\\Bestc\\anaconda3\\lib\\site-packages\\IPython\\core\\interactiveshell.py:3437: DtypeWarning: Columns (5) have mixed types.Specify dtype option on import or set low_memory=False.\n",
      "  exec(code_obj, self.user_global_ns, self.user_ns)\n"
     ]
    },
    {
     "data": {
      "text/html": [
       "<div>\n",
       "<style scoped>\n",
       "    .dataframe tbody tr th:only-of-type {\n",
       "        vertical-align: middle;\n",
       "    }\n",
       "\n",
       "    .dataframe tbody tr th {\n",
       "        vertical-align: top;\n",
       "    }\n",
       "\n",
       "    .dataframe thead th {\n",
       "        text-align: right;\n",
       "    }\n",
       "</style>\n",
       "<table border=\"1\" class=\"dataframe\">\n",
       "  <thead>\n",
       "    <tr style=\"text-align: right;\">\n",
       "      <th></th>\n",
       "      <th>관리번호</th>\n",
       "      <th>법정동코드</th>\n",
       "      <th>시도명</th>\n",
       "      <th>시군구명</th>\n",
       "      <th>법정읍면동명</th>\n",
       "      <th>법정리명</th>\n",
       "      <th>지번(본번)</th>\n",
       "      <th>지번(부번)</th>\n",
       "      <th>지번주소</th>\n",
       "    </tr>\n",
       "  </thead>\n",
       "  <tbody>\n",
       "    <tr>\n",
       "      <th>0</th>\n",
       "      <td>4211010100100010005011491</td>\n",
       "      <td>4211010100</td>\n",
       "      <td>강원도</td>\n",
       "      <td>춘천시</td>\n",
       "      <td>봉의동</td>\n",
       "      <td>0</td>\n",
       "      <td>1</td>\n",
       "      <td>5</td>\n",
       "      <td>강원도 춘천시 봉의동 1-5</td>\n",
       "    </tr>\n",
       "    <tr>\n",
       "      <th>1</th>\n",
       "      <td>4211010100100010007011490</td>\n",
       "      <td>4211010100</td>\n",
       "      <td>강원도</td>\n",
       "      <td>춘천시</td>\n",
       "      <td>봉의동</td>\n",
       "      <td>0</td>\n",
       "      <td>1</td>\n",
       "      <td>7</td>\n",
       "      <td>강원도 춘천시 봉의동 1-7</td>\n",
       "    </tr>\n",
       "    <tr>\n",
       "      <th>2</th>\n",
       "      <td>4211010100100010008000001</td>\n",
       "      <td>4211010100</td>\n",
       "      <td>강원도</td>\n",
       "      <td>춘천시</td>\n",
       "      <td>봉의동</td>\n",
       "      <td>0</td>\n",
       "      <td>1</td>\n",
       "      <td>8</td>\n",
       "      <td>강원도 춘천시 봉의동 1-8</td>\n",
       "    </tr>\n",
       "    <tr>\n",
       "      <th>3</th>\n",
       "      <td>4211010100100010008000001</td>\n",
       "      <td>4211010700</td>\n",
       "      <td>강원도</td>\n",
       "      <td>춘천시</td>\n",
       "      <td>옥천동</td>\n",
       "      <td>0</td>\n",
       "      <td>8</td>\n",
       "      <td>6</td>\n",
       "      <td>강원도 춘천시 옥천동 8-6</td>\n",
       "    </tr>\n",
       "    <tr>\n",
       "      <th>4</th>\n",
       "      <td>4211010100100010009011489</td>\n",
       "      <td>4211010100</td>\n",
       "      <td>강원도</td>\n",
       "      <td>춘천시</td>\n",
       "      <td>봉의동</td>\n",
       "      <td>0</td>\n",
       "      <td>1</td>\n",
       "      <td>9</td>\n",
       "      <td>강원도 춘천시 봉의동 1-9</td>\n",
       "    </tr>\n",
       "    <tr>\n",
       "      <th>...</th>\n",
       "      <td>...</td>\n",
       "      <td>...</td>\n",
       "      <td>...</td>\n",
       "      <td>...</td>\n",
       "      <td>...</td>\n",
       "      <td>...</td>\n",
       "      <td>...</td>\n",
       "      <td>...</td>\n",
       "      <td>...</td>\n",
       "    </tr>\n",
       "    <tr>\n",
       "      <th>8247162</th>\n",
       "      <td>4380036034105910000000001</td>\n",
       "      <td>4380036034</td>\n",
       "      <td>충청북도</td>\n",
       "      <td>단양군</td>\n",
       "      <td>단성면</td>\n",
       "      <td>대잠리</td>\n",
       "      <td>591</td>\n",
       "      <td>0</td>\n",
       "      <td>충청북도 단양군 단성면 대잠리 591</td>\n",
       "    </tr>\n",
       "    <tr>\n",
       "      <th>8247163</th>\n",
       "      <td>4380036034200600000000001</td>\n",
       "      <td>4380036034</td>\n",
       "      <td>충청북도</td>\n",
       "      <td>단양군</td>\n",
       "      <td>단성면</td>\n",
       "      <td>대잠리</td>\n",
       "      <td>60</td>\n",
       "      <td>0</td>\n",
       "      <td>충청북도 단양군 단성면 대잠리 60</td>\n",
       "    </tr>\n",
       "    <tr>\n",
       "      <th>8247164</th>\n",
       "      <td>4380036034200650000000001</td>\n",
       "      <td>4380036034</td>\n",
       "      <td>충청북도</td>\n",
       "      <td>단양군</td>\n",
       "      <td>단성면</td>\n",
       "      <td>대잠리</td>\n",
       "      <td>65</td>\n",
       "      <td>0</td>\n",
       "      <td>충청북도 단양군 단성면 대잠리 65</td>\n",
       "    </tr>\n",
       "    <tr>\n",
       "      <th>8247165</th>\n",
       "      <td>4380036034200850000000001</td>\n",
       "      <td>4380036034</td>\n",
       "      <td>충청북도</td>\n",
       "      <td>단양군</td>\n",
       "      <td>단성면</td>\n",
       "      <td>대잠리</td>\n",
       "      <td>412</td>\n",
       "      <td>1</td>\n",
       "      <td>충청북도 단양군 단성면 대잠리 412-1</td>\n",
       "    </tr>\n",
       "    <tr>\n",
       "      <th>8247166</th>\n",
       "      <td>4380036034204490000000001</td>\n",
       "      <td>4380036034</td>\n",
       "      <td>충청북도</td>\n",
       "      <td>단양군</td>\n",
       "      <td>단성면</td>\n",
       "      <td>대잠리</td>\n",
       "      <td>449</td>\n",
       "      <td>0</td>\n",
       "      <td>충청북도 단양군 단성면 대잠리 449</td>\n",
       "    </tr>\n",
       "  </tbody>\n",
       "</table>\n",
       "<p>8247167 rows × 9 columns</p>\n",
       "</div>"
      ],
      "text/plain": [
       "                              관리번호       법정동코드   시도명 시군구명 법정읍면동명 법정리명  지번(본번)  \\\n",
       "0        4211010100100010005011491  4211010100   강원도  춘천시    봉의동    0       1   \n",
       "1        4211010100100010007011490  4211010100   강원도  춘천시    봉의동    0       1   \n",
       "2        4211010100100010008000001  4211010100   강원도  춘천시    봉의동    0       1   \n",
       "3        4211010100100010008000001  4211010700   강원도  춘천시    옥천동    0       8   \n",
       "4        4211010100100010009011489  4211010100   강원도  춘천시    봉의동    0       1   \n",
       "...                            ...         ...   ...  ...    ...  ...     ...   \n",
       "8247162  4380036034105910000000001  4380036034  충청북도  단양군    단성면  대잠리     591   \n",
       "8247163  4380036034200600000000001  4380036034  충청북도  단양군    단성면  대잠리      60   \n",
       "8247164  4380036034200650000000001  4380036034  충청북도  단양군    단성면  대잠리      65   \n",
       "8247165  4380036034200850000000001  4380036034  충청북도  단양군    단성면  대잠리     412   \n",
       "8247166  4380036034204490000000001  4380036034  충청북도  단양군    단성면  대잠리     449   \n",
       "\n",
       "         지번(부번)                    지번주소  \n",
       "0             5         강원도 춘천시 봉의동 1-5  \n",
       "1             7         강원도 춘천시 봉의동 1-7  \n",
       "2             8         강원도 춘천시 봉의동 1-8  \n",
       "3             6         강원도 춘천시 옥천동 8-6  \n",
       "4             9         강원도 춘천시 봉의동 1-9  \n",
       "...         ...                     ...  \n",
       "8247162       0    충청북도 단양군 단성면 대잠리 591  \n",
       "8247163       0     충청북도 단양군 단성면 대잠리 60  \n",
       "8247164       0     충청북도 단양군 단성면 대잠리 65  \n",
       "8247165       1  충청북도 단양군 단성면 대잠리 412-1  \n",
       "8247166       0    충청북도 단양군 단성면 대잠리 449  \n",
       "\n",
       "[8247167 rows x 9 columns]"
      ]
     },
     "execution_count": 31,
     "metadata": {},
     "output_type": "execute_result"
    }
   ],
   "source": [
    "df_jibun = pd.read_csv('C:\\\\Workspace\\\\python\\\\빅데이터 지능형서비스 개발 팀프로젝트\\\\PJTJ4U\\\\조정범\\\\Data\\\\Dataset\\\\202109_주소DB_전체분\\\\지번\\\\지번주소 통합본.csv')\n",
    "df_jibun"
   ]
  },
  {
   "cell_type": "code",
   "execution_count": 3,
   "metadata": {},
   "outputs": [],
   "source": [
    "# Sentence-BERT: Sentence Embeddings using Siamese BERT-Networks\n",
    "# 출처 : https://github.com/UKPLab/sentence-transformers\n",
    "from sentence_transformers import SentenceTransformer, util\n",
    "model1 = SentenceTransformer('all-mpnet-base-v2')"
   ]
  },
  {
   "cell_type": "code",
   "execution_count": 4,
   "metadata": {},
   "outputs": [],
   "source": [
    "sentences1 = [juso for juso in df_jibun['지번주소'][:1000]]\n",
    "sentence_embeddings1 = model1.encode(sentences1, convert_to_tensor = True)"
   ]
  },
  {
   "cell_type": "code",
   "execution_count": 7,
   "metadata": {},
   "outputs": [
    {
     "data": {
      "text/plain": [
       "torch.Size([1000, 768])"
      ]
     },
     "execution_count": 7,
     "metadata": {},
     "output_type": "execute_result"
    }
   ],
   "source": [
    "input1 = '갱원도 춘천시 봉의동 1-5'\n",
    "input_embeddings1 = model1.encode(input1, convert_to_tensor = True)\n",
    "sentence_embeddings1.shape"
   ]
  },
  {
   "cell_type": "code",
   "execution_count": 8,
   "metadata": {},
   "outputs": [
    {
     "name": "stdout",
     "output_type": "stream",
     "text": [
      "'<bound method Kernel.raw_input of <ipykernel.ipkernel.IPythonKernel object at 0x000001E0EF757A90>>'과 가장 유사한 주소(유사도 : [0.9996349811553955] : '강원도 춘천시 봉의동 1-5'\n"
     ]
    }
   ],
   "source": [
    "from sklearn.metrics.pairwise import cosine_similarity\n",
    "cosine_scores1 = util.pytorch_cos_sim(sentence_embeddings1, input_embeddings1)\n",
    "cosine_scores_list1 = cosine_scores1.tolist()\n",
    "cosine_scores_list1.index(max(cosine_scores_list1))\n",
    "print(f\"'{input}'과 가장 유사한 주소(유사도 : {max(cosine_scores_list1)} : '{sentences1[cosine_scores_list1.index(max(cosine_scores_list1))]}'\")"
   ]
  },
  {
   "cell_type": "code",
   "execution_count": 9,
   "metadata": {},
   "outputs": [
    {
     "name": "stdout",
     "output_type": "stream",
     "text": [
      "using cached model\n",
      "using cached model\n"
     ]
    },
    {
     "data": {
      "text/plain": [
       "'pooler_output'"
      ]
     },
     "execution_count": 9,
     "metadata": {},
     "output_type": "execute_result"
    }
   ],
   "source": [
    "# KoBERT\n",
    "import torch\n",
    "from kobert.pytorch_kobert import get_pytorch_kobert_model\n",
    "input_ids = torch.LongTensor([[31, 51, 9], [15, 5, 0]])\n",
    "input_mask = torch.LongTensor([[1, 1, 1], [1, 1, 0]])\n",
    "token_type_ids = torch.LongTensor([[0, 0, 1], [0, 1, 0]])\n",
    "model, vocab  = get_pytorch_kobert_model()\n",
    "sequence_output, pooled_output = model(input_ids, input_mask, token_type_ids)\n",
    "# pooled_output.shape\n",
    "vocab\n",
    "# Last Encoding Layer\n",
    "pooled_output"
   ]
  },
  {
   "cell_type": "code",
   "execution_count": 10,
   "metadata": {},
   "outputs": [
    {
     "name": "stdout",
     "output_type": "stream",
     "text": [
      "using cached model\n"
     ]
    },
    {
     "data": {
      "text/plain": [
       "['▁한국', '어', '▁모델', '을', '▁공유', '합니다', '.']"
      ]
     },
     "execution_count": 10,
     "metadata": {},
     "output_type": "execute_result"
    }
   ],
   "source": [
    "from gluonnlp.data import SentencepieceTokenizer\n",
    "from kobert.utils import get_tokenizer\n",
    "tok_path = get_tokenizer()\n",
    "sp  = SentencepieceTokenizer(tok_path)\n",
    "sp('한국어 모델을 공유합니다.')"
   ]
  },
  {
   "cell_type": "code",
   "execution_count": 11,
   "metadata": {},
   "outputs": [
    {
     "name": "stderr",
     "output_type": "stream",
     "text": [
      "The tokenizer class you load from this checkpoint is not the same type as the class this function is called from. It may result in unexpected tokenization. \n",
      "The tokenizer class you load from this checkpoint is 'XLNetTokenizer'. \n",
      "The class this function is called from is 'KoBERTTokenizer'.\n"
     ]
    },
    {
     "data": {
      "text/plain": [
       "[2, 4958, 6855, 2046, 7088, 1050, 7843, 54, 3]"
      ]
     },
     "execution_count": 11,
     "metadata": {},
     "output_type": "execute_result"
    }
   ],
   "source": [
    "from kobert_tokenizer import KoBERTTokenizer\n",
    "tokenizer = KoBERTTokenizer.from_pretrained('skt/kobert-base-v1')\n",
    "tokenizer.encode(\"한국어 모델을 공유합니다.\")"
   ]
  },
  {
   "cell_type": "code",
   "execution_count": 12,
   "metadata": {},
   "outputs": [
    {
     "data": {
      "text/plain": [
       "{'input_ids': [2, 4958, 6855, 2046, 7088, 1050, 7843, 54, 3], 'token_type_ids': [0, 0, 0, 0, 0, 0, 0, 0, 0], 'attention_mask': [1, 1, 1, 1, 1, 1, 1, 1, 1]}"
      ]
     },
     "execution_count": 12,
     "metadata": {},
     "output_type": "execute_result"
    }
   ],
   "source": [
    "tokenizer(\"한국어 모델을 공유합니다.\")"
   ]
  },
  {
   "cell_type": "code",
   "execution_count": 13,
   "metadata": {},
   "outputs": [
    {
     "data": {
      "text/plain": [
       "torch.Size([1000, 768])"
      ]
     },
     "execution_count": 13,
     "metadata": {},
     "output_type": "execute_result"
    }
   ],
   "source": [
    "import torch\n",
    "from transformers import BertModel\n",
    "sentences2 = [juso for juso in df_jibun['지번주소']]\n",
    "model2 = BertModel.from_pretrained('skt/kobert-base-v1')\n",
    "text = sentences2[0]\n",
    "inputs = tokenizer.batch_encode_plus([text])\n",
    "out = model2(input_ids = torch.tensor(inputs['input_ids']),\n",
    "            attention_mask = torch.tensor(inputs['attention_mask']))\n",
    "juso_embedding = out.pooler_output\n",
    "n = 0\n",
    "for text in sentences2[1:1000]:\n",
    "    n += 1\n",
    "    inputs = tokenizer.batch_encode_plus([text])\n",
    "    out = model2(input_ids = torch.tensor(inputs['input_ids']),\n",
    "                attention_mask = torch.tensor(inputs['attention_mask']))\n",
    "    sample = out.pooler_output\n",
    "    juso_embedding = torch.cat([juso_embedding, sample], dim = 0)\n",
    "juso_embedding.shape"
   ]
  },
  {
   "cell_type": "code",
   "execution_count": 14,
   "metadata": {},
   "outputs": [
    {
     "data": {
      "text/plain": [
       "torch.Size([1000, 768])"
      ]
     },
     "execution_count": 14,
     "metadata": {},
     "output_type": "execute_result"
    }
   ],
   "source": [
    "juso_embedding.shape"
   ]
  },
  {
   "cell_type": "code",
   "execution_count": 18,
   "metadata": {},
   "outputs": [],
   "source": [
    "input2 = '갱원도 춘천시 봉의동 1-5'\n",
    "inputs = tokenizer.batch_encode_plus([input2])\n",
    "out = model(input_ids = torch.tensor(inputs['input_ids']),\n",
    "            attention_mask = torch.tensor(inputs['attention_mask']))\n",
    "input_embeddings = out.pooler_output"
   ]
  },
  {
   "cell_type": "code",
   "execution_count": 19,
   "metadata": {},
   "outputs": [
    {
     "data": {
      "text/plain": [
       "torch.Size([1000, 1])"
      ]
     },
     "execution_count": 19,
     "metadata": {},
     "output_type": "execute_result"
    }
   ],
   "source": [
    "from sklearn.metrics.pairwise import cosine_similarity\n",
    "from sentence_transformers import util\n",
    "cosine_scores2 = util.pytorch_cos_sim(juso_embedding, input_embeddings)\n",
    "cosine_scores2.shape"
   ]
  },
  {
   "cell_type": "code",
   "execution_count": 20,
   "metadata": {},
   "outputs": [
    {
     "name": "stdout",
     "output_type": "stream",
     "text": [
      "'갱원도 춘천시 봉의동 1-5'과 가장 유사한 주소(유사도 : [0.9996349811553955] : '강원도 춘천시 봉의동 1-5'\n",
      "'갱원도 춘천시 봉의동 1-5'과 가장 유사한 주소(유사도 : [0.9803658723831177] : '강원도 춘천시 요선동 155-5'\n"
     ]
    }
   ],
   "source": [
    "cosine_scores_list2 = cosine_scores2.tolist()\n",
    "cosine_scores_list2.index(max(cosine_scores_list2))\n",
    "print(f\"'{input1}'과 가장 유사한 주소(유사도 : {max(cosine_scores_list1)} : '{sentences1[cosine_scores_list1.index(max(cosine_scores_list1))]}'\")\n",
    "print(f\"'{input2}'과 가장 유사한 주소(유사도 : {max(cosine_scores_list2)} : '{sentences2[cosine_scores_list2.index(max(cosine_scores_list2))]}'\")"
   ]
  }
 ],
 "metadata": {
  "interpreter": {
   "hash": "fe3bab233825460445dbfeea6dcd52ef5815a3fa13c858fea07ac830aa383284"
  },
  "kernelspec": {
   "display_name": "Python 3.8.10 64-bit ('base': conda)",
   "name": "python3"
  },
  "language_info": {
   "codemirror_mode": {
    "name": "ipython",
    "version": 3
   },
   "file_extension": ".py",
   "mimetype": "text/x-python",
   "name": "python",
   "nbconvert_exporter": "python",
   "pygments_lexer": "ipython3",
   "version": "3.8.10"
  },
  "orig_nbformat": 4
 },
 "nbformat": 4,
 "nbformat_minor": 2
}
