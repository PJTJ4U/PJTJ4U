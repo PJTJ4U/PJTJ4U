{
 "cells": [
  {
   "cell_type": "code",
   "execution_count": 1,
   "metadata": {},
   "outputs": [],
   "source": [
    "import numpy as np\n",
    "import pandas as pd"
   ]
  },
  {
   "cell_type": "code",
   "execution_count": 5,
   "metadata": {},
   "outputs": [
    {
     "data": {
      "text/html": [
       "<div>\n",
       "<style scoped>\n",
       "    .dataframe tbody tr th:only-of-type {\n",
       "        vertical-align: middle;\n",
       "    }\n",
       "\n",
       "    .dataframe tbody tr th {\n",
       "        vertical-align: top;\n",
       "    }\n",
       "\n",
       "    .dataframe thead th {\n",
       "        text-align: right;\n",
       "    }\n",
       "</style>\n",
       "<table border=\"1\" class=\"dataframe\">\n",
       "  <thead>\n",
       "    <tr style=\"text-align: right;\">\n",
       "      <th></th>\n",
       "      <th>발송일자</th>\n",
       "      <th>발송관할청</th>\n",
       "      <th>발송집중국</th>\n",
       "      <th>도착집중국</th>\n",
       "      <th>운송선로편코드</th>\n",
       "      <th>운송선로명</th>\n",
       "      <th>운송거리(km)</th>\n",
       "      <th>차량톤급(톤)</th>\n",
       "      <th>등기소포물량(건)</th>\n",
       "      <th>등기통상물량(건)</th>\n",
       "      <th>국내특급물량(건)</th>\n",
       "    </tr>\n",
       "  </thead>\n",
       "  <tbody>\n",
       "    <tr>\n",
       "      <th>0</th>\n",
       "      <td>2019-10-01</td>\n",
       "      <td>서울청</td>\n",
       "      <td>동서울우편집중국</td>\n",
       "      <td>동서울물류센터</td>\n",
       "      <td>0113027-030</td>\n",
       "      <td>동집동서울물왕2-1</td>\n",
       "      <td>1</td>\n",
       "      <td>25</td>\n",
       "      <td>1,306</td>\n",
       "      <td>0</td>\n",
       "      <td>0</td>\n",
       "    </tr>\n",
       "    <tr>\n",
       "      <th>1</th>\n",
       "      <td>2019-10-01</td>\n",
       "      <td>서울청</td>\n",
       "      <td>동서울우편집중국</td>\n",
       "      <td>동서울물류센터</td>\n",
       "      <td>0113036-010</td>\n",
       "      <td>동집동서울물왕복1-1</td>\n",
       "      <td>2</td>\n",
       "      <td>110</td>\n",
       "      <td>3,009</td>\n",
       "      <td>0</td>\n",
       "      <td>0</td>\n",
       "    </tr>\n",
       "    <tr>\n",
       "      <th>2</th>\n",
       "      <td>2019-10-01</td>\n",
       "      <td>서울청</td>\n",
       "      <td>동서울우편집중국</td>\n",
       "      <td>동서울물류센터</td>\n",
       "      <td>0114326-019</td>\n",
       "      <td>동집(동서울물)광진수집3-1</td>\n",
       "      <td>2</td>\n",
       "      <td>50</td>\n",
       "      <td>389</td>\n",
       "      <td>0</td>\n",
       "      <td>0</td>\n",
       "    </tr>\n",
       "    <tr>\n",
       "      <th>3</th>\n",
       "      <td>2019-10-01</td>\n",
       "      <td>서울청</td>\n",
       "      <td>동서울우편집중국</td>\n",
       "      <td>동서울물류센터</td>\n",
       "      <td>0123023-010</td>\n",
       "      <td>동서울물동집왕복1-2</td>\n",
       "      <td>2</td>\n",
       "      <td>110</td>\n",
       "      <td>975</td>\n",
       "      <td>0</td>\n",
       "      <td>0</td>\n",
       "    </tr>\n",
       "    <tr>\n",
       "      <th>4</th>\n",
       "      <td>2019-10-01</td>\n",
       "      <td>서울청</td>\n",
       "      <td>동서울우편집중국</td>\n",
       "      <td>서서울물류센터</td>\n",
       "      <td>0113037-010</td>\n",
       "      <td>동집서서울물왕복1-2</td>\n",
       "      <td>49</td>\n",
       "      <td>110</td>\n",
       "      <td>2,790</td>\n",
       "      <td>0</td>\n",
       "      <td>0</td>\n",
       "    </tr>\n",
       "  </tbody>\n",
       "</table>\n",
       "</div>"
      ],
      "text/plain": [
       "         발송일자 발송관할청     발송집중국    도착집중국      운송선로편코드            운송선로명  \\\n",
       "0  2019-10-01   서울청  동서울우편집중국  동서울물류센터  0113027-030       동집동서울물왕2-1   \n",
       "1  2019-10-01   서울청  동서울우편집중국  동서울물류센터  0113036-010      동집동서울물왕복1-1   \n",
       "2  2019-10-01   서울청  동서울우편집중국  동서울물류센터  0114326-019  동집(동서울물)광진수집3-1   \n",
       "3  2019-10-01   서울청  동서울우편집중국  동서울물류센터  0123023-010      동서울물동집왕복1-2   \n",
       "4  2019-10-01   서울청  동서울우편집중국  서서울물류센터  0113037-010      동집서서울물왕복1-2   \n",
       "\n",
       "   운송거리(km)  차량톤급(톤) 등기소포물량(건) 등기통상물량(건) 국내특급물량(건)  \n",
       "0         1       25     1,306         0         0  \n",
       "1         2      110     3,009         0         0  \n",
       "2         2       50       389         0         0  \n",
       "3         2      110       975         0         0  \n",
       "4        49      110     2,790         0         0  "
      ]
     },
     "execution_count": 5,
     "metadata": {},
     "output_type": "execute_result"
    }
   ],
   "source": [
    "df = pd.read_csv('C:/Workspace/python/빅데이터 지능형서비스 개발 팀프로젝트/PJTJ4U/조정범/Data/Dataset/과학기술정보통신부 우정사업본부_우편집중국간 차량운송집계데이터_20191031.csv', encoding = 'euc-kr')\n",
    "df.head()"
   ]
  },
  {
   "cell_type": "code",
   "execution_count": 7,
   "metadata": {},
   "outputs": [
    {
     "data": {
      "text/plain": [
       "2019-10-29    1315\n",
       "2019-10-15    1312\n",
       "2019-10-28    1303\n",
       "2019-10-22    1303\n",
       "2019-10-11    1281\n",
       "2019-10-01    1270\n",
       "2019-10-14    1267\n",
       "2019-10-21    1258\n",
       "2019-10-10    1246\n",
       "2019-10-30    1239\n",
       "2019-10-31    1236\n",
       "2019-10-16    1224\n",
       "2019-10-07    1215\n",
       "2019-10-17    1203\n",
       "2019-10-23    1199\n",
       "2019-10-24    1186\n",
       "2019-10-25    1172\n",
       "2019-10-08    1168\n",
       "2019-10-18    1153\n",
       "2019-10-04    1139\n",
       "2019-10-02    1013\n",
       "2019-10-05     392\n",
       "2019-10-12     343\n",
       "2019-10-26     321\n",
       "2019-10-19     300\n",
       "2019-10-09     217\n",
       "2019-10-03     215\n",
       "2019-10-13      73\n",
       "2019-10-06      69\n",
       "2019-10-27      63\n",
       "2019-10-20      62\n",
       "Name: 발송일자, dtype: int64"
      ]
     },
     "execution_count": 7,
     "metadata": {},
     "output_type": "execute_result"
    }
   ],
   "source": [
    "df.발송일자.value_counts()"
   ]
  }
 ],
 "metadata": {
  "interpreter": {
   "hash": "fe3bab233825460445dbfeea6dcd52ef5815a3fa13c858fea07ac830aa383284"
  },
  "kernelspec": {
   "display_name": "Python 3.8.10 64-bit ('base': conda)",
   "name": "python3"
  },
  "language_info": {
   "codemirror_mode": {
    "name": "ipython",
    "version": 3
   },
   "file_extension": ".py",
   "mimetype": "text/x-python",
   "name": "python",
   "nbconvert_exporter": "python",
   "pygments_lexer": "ipython3",
   "version": "3.8.10"
  },
  "orig_nbformat": 4
 },
 "nbformat": 4,
 "nbformat_minor": 2
}
