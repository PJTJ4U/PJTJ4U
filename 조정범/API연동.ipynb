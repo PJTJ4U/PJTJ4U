{
 "cells": [
  {
   "cell_type": "code",
   "execution_count": 1,
   "metadata": {},
   "outputs": [],
   "source": [
    "import pandas as pd\n",
    "import numpy as np"
   ]
  },
  {
   "cell_type": "code",
   "execution_count": 46,
   "metadata": {},
   "outputs": [],
   "source": [
    "key = pd.read_csv('C:/Workspace/python/빅데이터 지능형서비스 개발 팀프로젝트/PJTJ4U/조정범/Data/API 연동 테스트용(우체국송장).txt', sep = '_')\n",
    "invokeUrl1= key[key['title'] == 'InvokeUrl'].content[0]\n",
    "secretKey1 = key[key['title'] == 'SecretKey'].content[1]"
   ]
  },
  {
   "cell_type": "code",
   "execution_count": 47,
   "metadata": {},
   "outputs": [
    {
     "name": "stdout",
     "output_type": "stream",
     "text": [
      "{'version': 'V2', 'requestId': 'c2c23cbd-21ac-4038-ac83-506399247e9e', 'timestamp': 1634709933630, 'images': [{'uid': '82b758a6320044d0bfe3b8c254ee8a27', 'name': 'demo', 'inferResult': 'SUCCESS', 'message': 'SUCCESS', 'matchedTemplate': {'id': 11136, 'name': 'API 연동테스트용'}, 'validationResult': {'result': 'NO_REQUESTED'}, 'title': {'name': '우체국택배 테스트용', 'boundingPoly': {'vertices': [{'x': 119.0, 'y': 30.0}, {'x': 275.0, 'y': 30.0}, {'x': 275.0, 'y': 75.0}, {'x': 119.0, 'y': 75.0}]}, 'inferText': '우체국택배', 'inferConfidence': 0.9872, 'subFields': [{'boundingPoly': {'vertices': [{'x': 119.0, 'y': 30.0}, {'x': 275.0, 'y': 30.0}, {'x': 275.0, 'y': 75.0}, {'x': 119.0, 'y': 75.0}]}, 'inferText': '우체국택배', 'inferConfidence': 0.9872, 'lineBreak': True}]}, 'fields': [{'name': 'Field 01', 'valueType': 'ALL', 'boundingPoly': {'vertices': [{'x': 62.0, 'y': 149.0}, {'x': 266.0, 'y': 149.0}, {'x': 266.0, 'y': 202.0}, {'x': 62.0, 'y': 202.0}]}, 'inferText': '주문인:\\n고객 주문처: 엔젤보상', 'inferConfidence': 0.998775, 'type': 'NORMAL', 'subFields': [{'boundingPoly': {'vertices': [{'x': 63.0, 'y': 149.0}, {'x': 135.0, 'y': 149.0}, {'x': 135.0, 'y': 172.0}, {'x': 63.0, 'y': 172.0}]}, 'inferText': '주문인:', 'inferConfidence': 0.9999, 'lineBreak': False}, {'boundingPoly': {'vertices': [{'x': 62.0, 'y': 176.0}, {'x': 108.0, 'y': 176.0}, {'x': 108.0, 'y': 201.0}, {'x': 62.0, 'y': 201.0}]}, 'inferText': '고객', 'inferConfidence': 0.9964, 'lineBreak': False}, {'boundingPoly': {'vertices': [{'x': 109.0, 'y': 177.0}, {'x': 180.0, 'y': 177.0}, {'x': 180.0, 'y': 202.0}, {'x': 109.0, 'y': 202.0}]}, 'inferText': '주문처:', 'inferConfidence': 0.9998, 'lineBreak': False}, {'boundingPoly': {'vertices': [{'x': 181.0, 'y': 176.0}, {'x': 266.0, 'y': 176.0}, {'x': 266.0, 'y': 202.0}, {'x': 181.0, 'y': 202.0}]}, 'inferText': '엔젤보상', 'inferConfidence': 0.999, 'lineBreak': False}]}, {'name': 'Field 02', 'valueType': 'ALL', 'boundingPoly': {'vertices': [{'x': 577.0, 'y': 166.0}, {'x': 995.0, 'y': 166.0}, {'x': 995.0, 'y': 218.0}, {'x': 577.0, 'y': 218.0}]}, 'inferText': '경기도 군포시 당정동 479-1번지 1. 2층\\n(주) 파인디지털', 'inferConfidence': 0.97807497, 'type': 'NORMAL', 'subFields': [{'boundingPoly': {'vertices': [{'x': 577.0, 'y': 166.0}, {'x': 647.0, 'y': 166.0}, {'x': 647.0, 'y': 195.0}, {'x': 577.0, 'y': 195.0}]}, 'inferText': '경기도', 'inferConfidence': 1.0, 'lineBreak': False}, {'boundingPoly': {'vertices': [{'x': 649.0, 'y': 166.0}, {'x': 720.0, 'y': 166.0}, {'x': 720.0, 'y': 194.0}, {'x': 649.0, 'y': 194.0}]}, 'inferText': '군포시', 'inferConfidence': 1.0, 'lineBreak': False}, {'boundingPoly': {'vertices': [{'x': 723.0, 'y': 166.0}, {'x': 797.0, 'y': 166.0}, {'x': 797.0, 'y': 196.0}, {'x': 723.0, 'y': 196.0}]}, 'inferText': '당정동', 'inferConfidence': 0.9993, 'lineBreak': False}, {'boundingPoly': {'vertices': [{'x': 797.0, 'y': 166.0}, {'x': 918.0, 'y': 166.0}, {'x': 918.0, 'y': 195.0}, {'x': 797.0, 'y': 195.0}]}, 'inferText': '479-1번지', 'inferConfidence': 0.9999, 'lineBreak': False}, {'boundingPoly': {'vertices': [{'x': 923.0, 'y': 169.0}, {'x': 948.0, 'y': 169.0}, {'x': 948.0, 'y': 190.0}, {'x': 923.0, 'y': 190.0}]}, 'inferText': '1.', 'inferConfidence': 0.8256, 'lineBreak': False}, {'boundingPoly': {'vertices': [{'x': 949.0, 'y': 167.0}, {'x': 995.0, 'y': 167.0}, {'x': 995.0, 'y': 195.0}, {'x': 949.0, 'y': 195.0}]}, 'inferText': '2층', 'inferConfidence': 1.0, 'lineBreak': False}, {'boundingPoly': {'vertices': [{'x': 577.0, 'y': 189.0}, {'x': 622.0, 'y': 189.0}, {'x': 622.0, 'y': 217.0}, {'x': 577.0, 'y': 217.0}]}, 'inferText': '(주)', 'inferConfidence': 0.9999, 'lineBreak': False}, {'boundingPoly': {'vertices': [{'x': 618.0, 'y': 189.0}, {'x': 734.0, 'y': 189.0}, {'x': 734.0, 'y': 218.0}, {'x': 618.0, 'y': 218.0}]}, 'inferText': '파인디지털', 'inferConfidence': 0.9999, 'lineBreak': False}]}, {'name': 'Field 03', 'valueType': 'ALL', 'boundingPoly': {'vertices': [{'x': 578.0, 'y': 239.0}, {'x': 885.0, 'y': 239.0}, {'x': 885.0, 'y': 271.0}, {'x': 578.0, 'y': 271.0}]}, 'inferText': '파인디지털 군포물류센터2', 'inferConfidence': 0.99995, 'type': 'NORMAL', 'subFields': [{'boundingPoly': {'vertices': [{'x': 578.0, 'y': 239.0}, {'x': 708.0, 'y': 239.0}, {'x': 708.0, 'y': 270.0}, {'x': 578.0, 'y': 270.0}]}, 'inferText': '파인디지털', 'inferConfidence': 0.9999, 'lineBreak': False}, {'boundingPoly': {'vertices': [{'x': 710.0, 'y': 239.0}, {'x': 885.0, 'y': 239.0}, {'x': 885.0, 'y': 271.0}, {'x': 710.0, 'y': 271.0}]}, 'inferText': '군포물류센터2', 'inferConfidence': 1.0, 'lineBreak': True}]}, {'name': 'Field 04', 'valueType': 'ALL', 'boundingPoly': {'vertices': [{'x': 577.0, 'y': 306.0}, {'x': 975.0, 'y': 306.0}, {'x': 975.0, 'y': 346.0}, {'x': 577.0, 'y': 346.0}]}, 'inferText': '경상남도 창원시 마산합포구', 'inferConfidence': 1.0, 'type': 'NORMAL', 'subFields': [{'boundingPoly': {'vertices': [{'x': 577.0, 'y': 307.0}, {'x': 707.0, 'y': 307.0}, {'x': 707.0, 'y': 346.0}, {'x': 577.0, 'y': 346.0}]}, 'inferText': '경상남도', 'inferConfidence': 1.0, 'lineBreak': False}, {'boundingPoly': {'vertices': [{'x': 708.0, 'y': 307.0}, {'x': 806.0, 'y': 307.0}, {'x': 806.0, 'y': 346.0}, {'x': 708.0, 'y': 346.0}]}, 'inferText': '창원시', 'inferConfidence': 1.0, 'lineBreak': False}, {'boundingPoly': {'vertices': [{'x': 813.0, 'y': 306.0}, {'x': 975.0, 'y': 306.0}, {'x': 975.0, 'y': 346.0}, {'x': 813.0, 'y': 346.0}]}, 'inferText': '마산합포구', 'inferConfidence': 1.0, 'lineBreak': False}]}, {'name': 'Field 05', 'valueType': 'ALL', 'boundingPoly': {'vertices': [{'x': 522.0, 'y': 38.0}, {'x': 1046.0, 'y': 38.0}, {'x': 1046.0, 'y': 129.0}, {'x': 522.0, 'y': 129.0}]}, 'inferText': '부4 창원M 615 마산합포', 'inferConfidence': 0.9994, 'type': 'NORMAL', 'subFields': [{'boundingPoly': {'vertices': [{'x': 522.0, 'y': 38.0}, {'x': 665.0, 'y': 38.0}, {'x': 665.0, 'y': 129.0}, {'x': 522.0, 'y': 129.0}]}, 'inferText': '부4', 'inferConfidence': 0.998, 'lineBreak': False}, {'boundingPoly': {'vertices': [{'x': 655.0, 'y': 80.0}, {'x': 750.0, 'y': 77.0}, {'x': 751.0, 'y': 115.0}, {'x': 656.0, 'y': 118.0}]}, 'inferText': '창원M', 'inferConfidence': 0.9999, 'lineBreak': False}, {'boundingPoly': {'vertices': [{'x': 758.0, 'y': 39.0}, {'x': 921.0, 'y': 39.0}, {'x': 921.0, 'y': 125.0}, {'x': 758.0, 'y': 125.0}]}, 'inferText': '615', 'inferConfidence': 1.0, 'lineBreak': False}, {'boundingPoly': {'vertices': [{'x': 918.0, 'y': 79.0}, {'x': 1046.0, 'y': 79.0}, {'x': 1046.0, 'y': 118.0}, {'x': 918.0, 'y': 118.0}]}, 'inferText': '마산합포', 'inferConfidence': 0.9997, 'lineBreak': True}]}]}]}\n"
     ]
    }
   ],
   "source": [
    "# 코드출처 : https://davelogs.tistory.com/40\n",
    "import requests\n",
    "import uuid\n",
    "import time\n",
    "import json\n",
    "\n",
    "api_url = invokeUrl1\n",
    "secret_key = secretKey1\n",
    "\n",
    "image_file = 'C:/Workspace/python/빅데이터 지능형서비스 개발 팀프로젝트/PJTJ4U/조정범/Data/input/우체국(테스트용).jpg'\n",
    "output_file = 'C:/Workspace/python/빅데이터 지능형서비스 개발 팀프로젝트/PJTJ4U/조정범/Data/output/우체국(테스트용).json'\n",
    "\n",
    "request_json = {\n",
    "    'images': [\n",
    "        {\n",
    "            'format': 'jpg',\n",
    "            'name': 'demo',\n",
    "            'templateIds': [11136]\n",
    "        }\n",
    "    ],\n",
    "    'requestId': str(uuid.uuid4()),\n",
    "    'version': 'V2',\n",
    "    'timestamp': int(round(time.time() * 1000))\n",
    "}\n",
    "\n",
    "payload = {'message': json.dumps(request_json).encode('UTF-8')}\n",
    "files = [\n",
    "  ('file', open(image_file,'rb'))\n",
    "]\n",
    "headers = {\n",
    "  'X-OCR-SECRET': secret_key\n",
    "}\n",
    "\n",
    "response = requests.request(\"POST\", api_url, headers=headers, data = payload, files = files)\n",
    "\n",
    "res = json.loads(response.text.encode('utf8'))\n",
    "print(res)\n",
    "\n",
    "with open(output_file, 'w', encoding='utf-8') as outfile:\n",
    "    json.dump(res, outfile, indent=4, ensure_ascii=False)"
   ]
  },
  {
   "cell_type": "code",
   "execution_count": 48,
   "metadata": {},
   "outputs": [
    {
     "data": {
      "text/plain": [
       "['주문인:\\n고객 주문처: 엔젤보상',\n",
       " '경기도 군포시 당정동 479-1번지 1. 2층\\n(주) 파인디지털',\n",
       " '파인디지털 군포물류센터2',\n",
       " '경상남도 창원시 마산합포구',\n",
       " '부4 창원M 615 마산합포']"
      ]
     },
     "execution_count": 48,
     "metadata": {},
     "output_type": "execute_result"
    }
   ],
   "source": [
    "with open('C:/Workspace/python/빅데이터 지능형서비스 개발 팀프로젝트/PJTJ4U/조정범/Data/output/우체국(테스트용).json', \\\n",
    "          'r', encoding = 'utf-8') as f:\n",
    "    json_data = json.load(f)\n",
    "\n",
    "word_list = []\n",
    "for i in range(len(json_data['images'][0]['fields'])):\n",
    "    # print(json_data['images'][0]['fields'][i]['inferText'])\n",
    "    word_list.append(json_data['images'][0]['fields'][i]['inferText'])\n",
    "word_list"
   ]
  },
  {
   "cell_type": "code",
   "execution_count": 5,
   "metadata": {},
   "outputs": [],
   "source": [
    "key = pd.read_csv('C:/Workspace/python/빅데이터 지능형서비스 개발 팀프로젝트/PJTJ4U/조정범/Data/API 연동 테스트용(제너럴).txt', sep = '_')\n",
    "invokeUrl2 = key[key['title'] == 'InvokeUrl'].content[0]\n",
    "secretKey2 = key[key['title'] == 'SecretKey'].content[1]"
   ]
  },
  {
   "cell_type": "code",
   "execution_count": 6,
   "metadata": {},
   "outputs": [
    {
     "name": "stdout",
     "output_type": "stream",
     "text": [
      "{'version': 'V2', 'requestId': 'b9ce0473-ed9c-4dda-83ed-7b1d960d424a', 'timestamp': 1634708662615, 'images': [{'uid': '42c3b3a362e647788c1ae00b6a4f828d', 'name': 'demo', 'inferResult': 'SUCCESS', 'message': 'SUCCESS', 'validationResult': {'result': 'NO_REQUESTED'}, 'fields': [{'valueType': 'ALL', 'boundingPoly': {'vertices': [{'x': 44.0, 'y': 9.0}, {'x': 66.0, 'y': 10.0}, {'x': 66.0, 'y': 15.0}, {'x': 44.0, 'y': 14.0}]}, 'inferText': 'KODIANA', 'inferConfidence': 0.532, 'type': 'NORMAL', 'lineBreak': True}, {'valueType': 'ALL', 'boundingPoly': {'vertices': [{'x': 97.0, 'y': 21.0}, {'x': 106.0, 'y': 21.0}, {'x': 106.0, 'y': 24.0}, {'x': 97.0, 'y': 24.0}]}, 'inferText': 'Gill', 'inferConfidence': 0.6197, 'type': 'NORMAL', 'lineBreak': False}, {'valueType': 'ALL', 'boundingPoly': {'vertices': [{'x': 154.0, 'y': 21.0}, {'x': 216.0, 'y': 21.0}, {'x': 216.0, 'y': 39.0}, {'x': 154.0, 'y': 39.0}]}, 'inferText': '우체국택배', 'inferConfidence': 0.9996, 'type': 'NORMAL', 'lineBreak': True}, {'valueType': 'ALL', 'boundingPoly': {'vertices': [{'x': 65.0, 'y': 26.0}, {'x': 114.0, 'y': 27.0}, {'x': 113.0, 'y': 34.0}, {'x': 65.0, 'y': 33.0}]}, 'inferText': '1588-1300', 'inferConfidence': 0.9992, 'type': 'NORMAL', 'lineBreak': True}, {'valueType': 'ALL', 'boundingPoly': {'vertices': [{'x': 29.0, 'y': 41.0}, {'x': 40.0, 'y': 41.0}, {'x': 40.0, 'y': 47.0}, {'x': 29.0, 'y': 47.0}]}, 'inferText': '2121', 'inferConfidence': 0.5161, 'type': 'NORMAL', 'lineBreak': False}, {'valueType': 'ALL', 'boundingPoly': {'vertices': [{'x': 52.0, 'y': 40.0}, {'x': 94.0, 'y': 40.0}, {'x': 94.0, 'y': 51.0}, {'x': 52.0, 'y': 51.0}]}, 'inferText': '축향이', 'inferConfidence': 0.8264, 'type': 'NORMAL', 'lineBreak': False}, {'valueType': 'ALL', 'boundingPoly': {'vertices': [{'x': 216.0, 'y': 43.0}, {'x': 241.0, 'y': 43.0}, {'x': 241.0, 'y': 54.0}, {'x': 216.0, 'y': 54.0}]}, 'inferText': '꽃신', 'inferConfidence': 0.9517, 'type': 'NORMAL', 'lineBreak': True}, {'valueType': 'ALL', 'boundingPoly': {'vertices': [{'x': 16.0, 'y': 45.0}, {'x': 23.0, 'y': 45.0}, {'x': 22.0, 'y': 79.0}, {'x': 16.0, 'y': 79.0}]}, 'inferText': '보내는', 'inferConfidence': 0.9801, 'type': 'NORMAL', 'lineBreak': False}, {'valueType': 'ALL', 'boundingPoly': {'vertices': [{'x': 29.0, 'y': 54.0}, {'x': 39.0, 'y': 54.0}, {'x': 39.0, 'y': 59.0}, {'x': 29.0, 'y': 59.0}]}, 'inferText': '###', 'inferConfidence': 0.9453, 'type': 'NORMAL', 'lineBreak': False}, {'valueType': 'ALL', 'boundingPoly': {'vertices': [{'x': 48.0, 'y': 54.0}, {'x': 65.0, 'y': 55.0}, {'x': 65.0, 'y': 62.0}, {'x': 48.0, 'y': 61.0}]}, 'inferText': 'Old', 'inferConfidence': 0.6125, 'type': 'NORMAL', 'lineBreak': False}, {'valueType': 'ALL', 'boundingPoly': {'vertices': [{'x': 71.0, 'y': 55.0}, {'x': 141.0, 'y': 55.0}, {'x': 141.0, 'y': 62.0}, {'x': 71.0, 'y': 62.0}]}, 'inferText': '-1234-517G', 'inferConfidence': 0.8059, 'type': 'NORMAL', 'lineBreak': True}, {'valueType': 'ALL', 'boundingPoly': {'vertices': [{'x': 47.0, 'y': 67.0}, {'x': 69.0, 'y': 69.0}, {'x': 68.0, 'y': 78.0}, {'x': 46.0, 'y': 77.0}]}, 'inferText': '소주도', 'inferConfidence': 0.9913, 'type': 'NORMAL', 'lineBreak': False}, {'valueType': 'ALL', 'boundingPoly': {'vertices': [{'x': 72.0, 'y': 68.0}, {'x': 122.0, 'y': 68.0}, {'x': 122.0, 'y': 79.0}, {'x': 72.0, 'y': 79.0}]}, 'inferText': '독하군 일이면', 'inferConfidence': 0.7624, 'type': 'NORMAL', 'lineBreak': False}, {'valueType': 'ALL', 'boundingPoly': {'vertices': [{'x': 126.0, 'y': 68.0}, {'x': 156.0, 'y': 70.0}, {'x': 155.0, 'y': 79.0}, {'x': 126.0, 'y': 78.0}]}, 'inferText': '취하리', 'inferConfidence': 0.7741, 'type': 'NORMAL', 'lineBreak': False}, {'valueType': 'ALL', 'boundingPoly': {'vertices': [{'x': 181.0, 'y': 71.0}, {'x': 202.0, 'y': 71.0}, {'x': 202.0, 'y': 76.0}, {'x': 181.0, 'y': 76.0}]}, 'inferText': '천보스타', 'inferConfidence': 0.6286, 'type': 'NORMAL', 'lineBreak': False}, {'valueType': 'ALL', 'boundingPoly': {'vertices': [{'x': 240.0, 'y': 73.0}, {'x': 246.0, 'y': 73.0}, {'x': 246.0, 'y': 78.0}, {'x': 240.0, 'y': 78.0}]}, 'inferText': 'R', 'inferConfidence': 0.6283, 'type': 'NORMAL', 'lineBreak': False}, {'valueType': 'ALL', 'boundingPoly': {'vertices': [{'x': 262.0, 'y': 73.0}, {'x': 286.0, 'y': 73.0}, {'x': 286.0, 'y': 77.0}, {'x': 262.0, 'y': 77.0}]}, 'inferText': 'Pielrver', 'inferConfidence': 0.6099, 'type': 'NORMAL', 'lineBreak': True}, {'valueType': 'ALL', 'boundingPoly': {'vertices': [{'x': 181.0, 'y': 87.0}, {'x': 202.0, 'y': 87.0}, {'x': 202.0, 'y': 92.0}, {'x': 181.0, 'y': 92.0}]}, 'inferText': 'ADML', 'inferConfidence': 0.6133, 'type': 'NORMAL', 'lineBreak': False}, {'valueType': 'ALL', 'boundingPoly': {'vertices': [{'x': 262.0, 'y': 89.0}, {'x': 284.0, 'y': 89.0}, {'x': 284.0, 'y': 94.0}, {'x': 262.0, 'y': 94.0}]}, 'inferText': '0.000%', 'inferConfidence': 0.4551, 'type': 'NORMAL', 'lineBreak': False}, {'valueType': 'ALL', 'boundingPoly': {'vertices': [{'x': 318.0, 'y': 89.0}, {'x': 329.0, 'y': 89.0}, {'x': 329.0, 'y': 94.0}, {'x': 318.0, 'y': 94.0}]}, 'inferText': 'DIST', 'inferConfidence': 0.3897, 'type': 'NORMAL', 'lineBreak': True}, {'valueType': 'ALL', 'boundingPoly': {'vertices': [{'x': 185.0, 'y': 100.0}, {'x': 222.0, 'y': 101.0}, {'x': 221.0, 'y': 115.0}, {'x': 185.0, 'y': 114.0}]}, 'inferText': '응룡이', 'inferConfidence': 0.6241, 'type': 'NORMAL', 'lineBreak': True}, {'valueType': 'ALL', 'boundingPoly': {'vertices': [{'x': 151.0, 'y': 121.0}, {'x': 161.0, 'y': 121.0}, {'x': 161.0, 'y': 126.0}, {'x': 151.0, 'y': 126.0}]}, 'inferText': '###', 'inferConfidence': 0.77, 'type': 'NORMAL', 'lineBreak': False}, {'valueType': 'ALL', 'boundingPoly': {'vertices': [{'x': 174.0, 'y': 119.0}, {'x': 239.0, 'y': 120.0}, {'x': 238.0, 'y': 129.0}, {'x': 174.0, 'y': 128.0}]}, 'inferText': '018-3456', 'inferConfidence': 0.9991, 'type': 'NORMAL', 'lineBreak': False}, {'valueType': 'ALL', 'boundingPoly': {'vertices': [{'x': 244.0, 'y': 120.0}, {'x': 287.0, 'y': 122.0}, {'x': 287.0, 'y': 133.0}, {'x': 243.0, 'y': 131.0}]}, 'inferText': '-7890', 'inferConfidence': 1.0, 'type': 'NORMAL', 'lineBreak': True}, {'valueType': 'ALL', 'boundingPoly': {'vertices': [{'x': 168.0, 'y': 136.0}, {'x': 191.0, 'y': 136.0}, {'x': 191.0, 'y': 148.0}, {'x': 168.0, 'y': 148.0}]}, 'inferText': '소득도', 'inferConfidence': 0.8517, 'type': 'NORMAL', 'lineBreak': False}, {'valueType': 'ALL', 'boundingPoly': {'vertices': [{'x': 196.0, 'y': 136.0}, {'x': 222.0, 'y': 137.0}, {'x': 221.0, 'y': 150.0}, {'x': 195.0, 'y': 149.0}]}, 'inferText': '독하운', 'inferConfidence': 0.9502, 'type': 'NORMAL', 'lineBreak': False}, {'valueType': 'ALL', 'boundingPoly': {'vertices': [{'x': 227.0, 'y': 137.0}, {'x': 253.0, 'y': 139.0}, {'x': 252.0, 'y': 149.0}, {'x': 227.0, 'y': 147.0}]}, 'inferText': 'pcstim', 'inferConfidence': 0.5297, 'type': 'NORMAL', 'lineBreak': False}, {'valueType': 'ALL', 'boundingPoly': {'vertices': [{'x': 258.0, 'y': 138.0}, {'x': 288.0, 'y': 138.0}, {'x': 288.0, 'y': 153.0}, {'x': 258.0, 'y': 153.0}]}, 'inferText': '뽀가리', 'inferConfidence': 0.9508, 'type': 'NORMAL', 'lineBreak': True}, {'valueType': 'ALL', 'boundingPoly': {'vertices': [{'x': 49.0, 'y': 162.0}, {'x': 69.0, 'y': 162.0}, {'x': 69.0, 'y': 167.0}, {'x': 49.0, 'y': 167.0}]}, 'inferText': 'ATOLE', 'inferConfidence': 0.6011, 'type': 'NORMAL', 'lineBreak': False}, {'valueType': 'ALL', 'boundingPoly': {'vertices': [{'x': 71.0, 'y': 162.0}, {'x': 85.0, 'y': 163.0}, {'x': 85.0, 'y': 167.0}, {'x': 71.0, 'y': 167.0}]}, 'inferText': 'MOD', 'inferConfidence': 0.8536, 'type': 'NORMAL', 'lineBreak': False}, {'valueType': 'ALL', 'boundingPoly': {'vertices': [{'x': 87.0, 'y': 163.0}, {'x': 92.0, 'y': 163.0}, {'x': 92.0, 'y': 168.0}, {'x': 87.0, 'y': 168.0}]}, 'inferText': '-', 'inferConfidence': 0.1601, 'type': 'NORMAL', 'lineBreak': True}, {'valueType': 'ALL', 'boundingPoly': {'vertices': [{'x': 58.0, 'y': 169.0}, {'x': 84.0, 'y': 170.0}, {'x': 84.0, 'y': 174.0}, {'x': 58.0, 'y': 174.0}]}, 'inferText': '10.0000', 'inferConfidence': 0.6078, 'type': 'NORMAL', 'lineBreak': True}]}]}\n"
     ]
    }
   ],
   "source": [
    "# 코드출처 : https://davelogs.tistory.com/39?category=928468\n",
    "import requests\n",
    "import uuid\n",
    "import time\n",
    "import json\n",
    "\n",
    "api_url = invokeUrl2\n",
    "secret_key = secretKey2\n",
    "\n",
    "image_file = 'C:/Workspace/python/빅데이터 지능형서비스 개발 팀프로젝트/PJTJ4U/조정범/Data/input/우체국(제너럴테스트).jpg'\n",
    "output_file = 'C:/Workspace/python/빅데이터 지능형서비스 개발 팀프로젝트/PJTJ4U/조정범/Data/output/우체국(제너럴테스트).json'\n",
    "\n",
    "request_json = {\n",
    "    'images': [\n",
    "        {\n",
    "            'format': 'png',\n",
    "            'name': 'demo'\n",
    "        }\n",
    "    ],\n",
    "    'requestId': str(uuid.uuid4()),\n",
    "    'version': 'V2',\n",
    "    'timestamp': int(round(time.time() * 1000))\n",
    "}\n",
    "\n",
    "payload = {'message': json.dumps(request_json).encode('UTF-8')}\n",
    "files = [\n",
    "  ('file', open(image_file,'rb'))\n",
    "]\n",
    "headers = {\n",
    "  'X-OCR-SECRET': secret_key\n",
    "}\n",
    "\n",
    "response = requests.request(\"POST\", api_url, headers=headers, data = payload, files = files)\n",
    "\n",
    "res = json.loads(response.text.encode('utf8'))\n",
    "print(res)\n",
    "\n",
    "with open(output_file, 'w', encoding='utf-8') as outfile:\n",
    "    json.dump(res, outfile, indent=4, ensure_ascii=False)"
   ]
  },
  {
   "cell_type": "code",
   "execution_count": 42,
   "metadata": {},
   "outputs": [
    {
     "data": {
      "text/plain": [
       "['KODIANA',\n",
       " 'Gill',\n",
       " '우체국택배',\n",
       " '1588-1300',\n",
       " '2121',\n",
       " '축향이',\n",
       " '꽃신',\n",
       " '보내는',\n",
       " '###',\n",
       " 'Old',\n",
       " '-1234-517G',\n",
       " '소주도',\n",
       " '독하군 일이면',\n",
       " '취하리',\n",
       " '천보스타',\n",
       " 'R',\n",
       " 'Pielrver',\n",
       " 'ADML',\n",
       " '0.000%',\n",
       " 'DIST',\n",
       " '응룡이',\n",
       " '###',\n",
       " '018-3456',\n",
       " '-7890',\n",
       " '소득도',\n",
       " '독하운',\n",
       " 'pcstim',\n",
       " '뽀가리',\n",
       " 'ATOLE',\n",
       " 'MOD',\n",
       " '-',\n",
       " '10.0000']"
      ]
     },
     "execution_count": 42,
     "metadata": {},
     "output_type": "execute_result"
    }
   ],
   "source": [
    "with open('C:/Workspace/python/빅데이터 지능형서비스 개발 팀프로젝트/PJTJ4U/조정범/Data/output/우체국(제너럴테스트).json', \\\n",
    "          'r', encoding = 'utf-8') as f:\n",
    "    json_data = json.load(f)\n",
    "\n",
    "word_list = []\n",
    "for i in range(len(json_data['images'][0]['fields'])):\n",
    "    # print(json_data['images'][0]['fields'][i]['inferText'])\n",
    "    word_list.append(json_data['images'][0]['fields'][i]['inferText'])\n",
    "word_list"
   ]
  }
 ],
 "metadata": {
  "interpreter": {
   "hash": "fe3bab233825460445dbfeea6dcd52ef5815a3fa13c858fea07ac830aa383284"
  },
  "kernelspec": {
   "display_name": "Python 3.8.10 64-bit ('base': conda)",
   "name": "python3"
  },
  "language_info": {
   "codemirror_mode": {
    "name": "ipython",
    "version": 3
   },
   "file_extension": ".py",
   "mimetype": "text/x-python",
   "name": "python",
   "nbconvert_exporter": "python",
   "pygments_lexer": "ipython3",
   "version": "3.8.10"
  },
  "orig_nbformat": 4
 },
 "nbformat": 4,
 "nbformat_minor": 2
}
