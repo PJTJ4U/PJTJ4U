{
 "cells": [
  {
   "cell_type": "code",
   "execution_count": 2,
   "metadata": {},
   "outputs": [],
   "source": [
    "import torch\n",
    "import numpy as np\n",
    "import pandas as pd"
   ]
  },
  {
   "cell_type": "code",
   "execution_count": 4,
   "metadata": {},
   "outputs": [
    {
     "name": "stdout",
     "output_type": "stream",
     "text": [
      "2.3.0\n",
      "[name: \"/device:CPU:0\"\n",
      "device_type: \"CPU\"\n",
      "memory_limit: 268435456\n",
      "locality {\n",
      "}\n",
      "incarnation: 14752680027203299205\n",
      ", name: \"/device:XLA_CPU:0\"\n",
      "device_type: \"XLA_CPU\"\n",
      "memory_limit: 17179869184\n",
      "locality {\n",
      "}\n",
      "incarnation: 15191316688353388643\n",
      "physical_device_desc: \"device: XLA_CPU device\"\n",
      ", name: \"/device:XLA_GPU:0\"\n",
      "device_type: \"XLA_GPU\"\n",
      "memory_limit: 17179869184\n",
      "locality {\n",
      "}\n",
      "incarnation: 5459814955927189713\n",
      "physical_device_desc: \"device: XLA_GPU device\"\n",
      "]\n"
     ]
    },
    {
     "data": {
      "text/plain": [
       "(True, True, '')"
      ]
     },
     "execution_count": 4,
     "metadata": {},
     "output_type": "execute_result"
    }
   ],
   "source": [
    "import tensorflow as tf\n",
    "from tensorflow.python.client import device_lib\n",
    "print(tf.__version__)\n",
    "print(device_lib.list_local_devices())\n",
    "tf.test.is_built_with_gpu_support(), tf.test.is_built_with_cuda(), tf.test.gpu_device_name()"
   ]
  },
  {
   "cell_type": "code",
   "execution_count": 5,
   "metadata": {},
   "outputs": [],
   "source": [
    "torch.cuda.empty_cache()"
   ]
  },
  {
   "cell_type": "code",
   "execution_count": 3,
   "metadata": {},
   "outputs": [
    {
     "data": {
      "text/plain": [
       "(521434, 768)"
      ]
     },
     "execution_count": 3,
     "metadata": {},
     "output_type": "execute_result"
    }
   ],
   "source": [
    "embedding_jibun = np.load('C:\\\\Workspace\\\\python\\\\빅데이터 지능형서비스 개발 팀프로젝트\\\\PJTJ4U\\\\조정범\\\\Data\\\\Dataset\\\\임베딩자료(지번)\\\\embedding_result(지번).npy')\n",
    "# embedding_jibun = torch.from_numpy(embedding_jibun).to('cuda')\n",
    "# torch.cuda.empty_cache()\n",
    "embedding_jibun.shape"
   ]
  },
  {
   "cell_type": "code",
   "execution_count": 4,
   "metadata": {},
   "outputs": [],
   "source": [
    "df = pd.read_csv('C:\\\\Workspace\\\\python\\\\빅데이터 지능형서비스 개발 팀프로젝트\\\\PJTJ4U\\\\조정범\\\\Data\\\\Dataset\\\\주소변환완료.csv')\n",
    "sentences = [juso for juso in df['지번주소']]"
   ]
  },
  {
   "cell_type": "code",
   "execution_count": 5,
   "metadata": {},
   "outputs": [
    {
     "data": {
      "text/plain": [
       "521434"
      ]
     },
     "execution_count": 5,
     "metadata": {},
     "output_type": "execute_result"
    }
   ],
   "source": [
    "len(sentences)"
   ]
  },
  {
   "cell_type": "code",
   "execution_count": 6,
   "metadata": {},
   "outputs": [],
   "source": [
    "# Sentence-BERT: Sentence Embeddings using Siamese BERT-Networks\n",
    "# 출처 : https://github.com/UKPLab/sentence-transformers\n",
    "from sentence_transformers import SentenceTransformer, util\n",
    "model = SentenceTransformer('all-mpnet-base-v2')"
   ]
  },
  {
   "cell_type": "code",
   "execution_count": 9,
   "metadata": {},
   "outputs": [
    {
     "name": "stdout",
     "output_type": "stream",
     "text": [
      "'서웅시 강남구 영삼동 718-5'과 가장 유사한 주소(유사도 : [0.9771481156349182] : '서울특별시 강남구 역삼동 718-5'\n"
     ]
    }
   ],
   "source": [
    "input = '서웅시 강남구 영삼동 718-5'\n",
    "# input_embeddings = model.encode(input, convert_to_tensor = True)\n",
    "input_embeddings = model.encode(input)\n",
    "# input_embeddings = input_embeddings.cpu().numpy()\n",
    "from sklearn.metrics.pairwise import cosine_similarity\n",
    "input_embeddings = np.expand_dims(input_embeddings, axis = 0) \n",
    "cosine_scores = cosine_similarity(embedding_jibun, input_embeddings)\n",
    "cosine_scores_list= cosine_scores.tolist()\n",
    "print(f\"'{input}'과 가장 유사한 주소(유사도 : {max(cosine_scores_list)} : '{sentences[cosine_scores_list.index(max(cosine_scores_list))]}'\")"
   ]
  },
  {
   "cell_type": "code",
   "execution_count": null,
   "metadata": {},
   "outputs": [],
   "source": [
    "# input = '서웅시 강남구 식사동 537-5'\n",
    "# input_embeddings = model.encode(input, convert_to_tensor = True)\n",
    "# input_embeddings = input_embeddings.cpu().numpy()\n",
    "# from sklearn.metrics.pairwise import cosine_similarity\n",
    "# cosine_scores = util.pytorch_cos_sim(embedding_jibun, input_embeddings)\n",
    "# cosine_scores_list = cosine_scores.tolist()\n",
    "# cosine_scores_list.index(max(cosine_scores_list))\n",
    "# print(f\"'{input}'과 가장 유사한 주소(유사도 : {max(cosine_scores_list)} : '{sentences[cosine_scores_list.index(max(cosine_scores_list))]}'\")"
   ]
  }
 ],
 "metadata": {
  "interpreter": {
   "hash": "fe3bab233825460445dbfeea6dcd52ef5815a3fa13c858fea07ac830aa383284"
  },
  "kernelspec": {
   "display_name": "Python 3.8.10 64-bit ('base': conda)",
   "name": "python3"
  },
  "language_info": {
   "codemirror_mode": {
    "name": "ipython",
    "version": 3
   },
   "file_extension": ".py",
   "mimetype": "text/x-python",
   "name": "python",
   "nbconvert_exporter": "python",
   "pygments_lexer": "ipython3",
   "version": "3.8.10"
  },
  "orig_nbformat": 4
 },
 "nbformat": 4,
 "nbformat_minor": 2
}
