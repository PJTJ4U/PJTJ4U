{
  "nbformat": 4,
  "nbformat_minor": 0,
  "metadata": {
    "colab": {
      "name": "OCR_API2.ipynb",
      "provenance": [],
      "collapsed_sections": []
    },
    "kernelspec": {
      "name": "python3",
      "display_name": "Python 3"
    },
    "language_info": {
      "name": "python"
    }
  },
  "cells": [
    {
      "cell_type": "code",
      "metadata": {
        "colab": {
          "base_uri": "https://localhost:8080/"
        },
        "id": "-CX3WRutEK1l",
        "outputId": "99a45b26-0c95-442f-81ef-9753e4a0e2de"
      },
      "source": [
        "from google.colab import drive\n",
        "drive.mount('/content/drive')"
      ],
      "execution_count": 4,
      "outputs": [
        {
          "output_type": "stream",
          "name": "stdout",
          "text": [
            "Mounted at /content/drive\n"
          ]
        }
      ]
    },
    {
      "cell_type": "code",
      "metadata": {
        "colab": {
          "base_uri": "https://localhost:8080/"
        },
        "id": "8L7SpMtAuA2R",
        "outputId": "f47c0bef-16af-4ff8-b7d1-a1abb47690e5"
      },
      "source": [
        "with open('/content/drive/MyDrive/data/API/key/SecretKey.txt') as f:\n",
        "  secret_key = f.read()\n",
        "len(secret_key)"
      ],
      "execution_count": 11,
      "outputs": [
        {
          "output_type": "execute_result",
          "data": {
            "text/plain": [
              "44"
            ]
          },
          "metadata": {},
          "execution_count": 11
        }
      ]
    },
    {
      "cell_type": "code",
      "metadata": {
        "colab": {
          "base_uri": "https://localhost:8080/"
        },
        "id": "lDlz1zISw7AI",
        "outputId": "58602284-7e1e-4bb9-9a0e-aec0d33dc66b"
      },
      "source": [
        "with open('/content/drive/MyDrive/data/API/key/APIGWInvokeURL.txt') as f:\n",
        "  api_url = f.read()\n",
        "len(api_url)"
      ],
      "execution_count": 9,
      "outputs": [
        {
          "output_type": "execute_result",
          "data": {
            "text/plain": [
              "144"
            ]
          },
          "metadata": {},
          "execution_count": 9
        }
      ]
    },
    {
      "cell_type": "code",
      "metadata": {
        "colab": {
          "base_uri": "https://localhost:8080/"
        },
        "id": "xTgK2RjUEQax",
        "outputId": "5f56013a-5a27-48c6-ca27-4ce66fd7043d"
      },
      "source": [
        "import requests\n",
        "import uuid\n",
        "import time\n",
        "import json\n",
        "\n",
        "\n",
        "image_file = '/content/drive/MyDrive/J4U/자료파일/송장/경동택배_샘플.jpg'\n",
        "\n",
        "request_json = {\n",
        "    'images': [\n",
        "        {\n",
        "            'format': 'jpg',\n",
        "            'name': 'demo',\n",
        "\n",
        "        }\n",
        "    ],\n",
        "    'requestId': str(uuid.uuid4()),\n",
        "    'version': 'V2',\n",
        "    'timestamp': int(round(time.time() * 1000))\n",
        "}\n",
        "\n",
        "payload = {'message': json.dumps(request_json).encode('UTF-8')}\n",
        "files = [\n",
        "  ('file', open(image_file,'rb'))\n",
        "]\n",
        "headers = {\n",
        "  'X-OCR-SECRET': secret_key\n",
        "}\n",
        "\n",
        "response = requests.request(\"POST\", api_url, headers=headers, data = payload, files = files)\n",
        "\n",
        "res = json.loads(response.text.encode('utf8'))\n",
        "print(res)\n"
      ],
      "execution_count": 19,
      "outputs": [
        {
          "output_type": "stream",
          "name": "stdout",
          "text": [
            "{'version': 'V2', 'requestId': 'e950a926-4c92-483e-924a-6689addd089f', 'timestamp': 1634887113199, 'images': [{'uid': '97f650188508472ab57e752d70e6af41', 'name': 'demo', 'inferResult': 'SUCCESS', 'message': 'SUCCESS', 'matchedTemplate': {'id': 11154, 'name': '경동'}, 'validationResult': {'result': 'NO_REQUESTED'}, 'title': {'name': '경동택배', 'boundingPoly': {'vertices': [{'x': 131.0, 'y': 19.0}, {'x': 230.0, 'y': 19.0}, {'x': 230.0, 'y': 47.0}, {'x': 131.0, 'y': 47.0}]}, 'inferText': '경동택배', 'inferConfidence': 1.0, 'subFields': [{'boundingPoly': {'vertices': [{'x': 131.0, 'y': 19.0}, {'x': 230.0, 'y': 19.0}, {'x': 230.0, 'y': 47.0}, {'x': 131.0, 'y': 47.0}]}, 'inferText': '경동택배', 'inferConfidence': 1.0, 'lineBreak': False}]}, 'fields': [{'name': '보내는분 성함', 'valueType': 'ALL', 'boundingPoly': {'vertices': [{'x': 238.0, 'y': 79.0}, {'x': 356.0, 'y': 79.0}, {'x': 356.0, 'y': 116.0}, {'x': 238.0, 'y': 116.0}]}, 'inferText': '멀티캠퍼스', 'inferConfidence': 0.9998, 'type': 'NORMAL', 'subFields': [{'boundingPoly': {'vertices': [{'x': 238.0, 'y': 79.0}, {'x': 356.0, 'y': 79.0}, {'x': 356.0, 'y': 116.0}, {'x': 238.0, 'y': 116.0}]}, 'inferText': '멀티캠퍼스', 'inferConfidence': 0.9998, 'lineBreak': False}]}, {'name': '보내는분 전화번호', 'valueType': 'ALL', 'boundingPoly': {'vertices': [{'x': 406.0, 'y': 81.0}, {'x': 568.0, 'y': 81.0}, {'x': 568.0, 'y': 105.0}, {'x': 406.0, 'y': 105.0}]}, 'inferText': '01-234-5678', 'inferConfidence': 0.9978, 'type': 'NORMAL', 'subFields': [{'boundingPoly': {'vertices': [{'x': 406.0, 'y': 81.0}, {'x': 568.0, 'y': 81.0}, {'x': 568.0, 'y': 105.0}, {'x': 406.0, 'y': 105.0}]}, 'inferText': '01-234-5678', 'inferConfidence': 0.9978, 'lineBreak': True}]}, {'name': '받는분 성함 1', 'valueType': 'ALL', 'boundingPoly': {'vertices': [{'x': 77.0, 'y': 158.0}, {'x': 206.0, 'y': 158.0}, {'x': 206.0, 'y': 195.0}, {'x': 77.0, 'y': 195.0}]}, 'inferText': '받는분(상호) 김진영', 'inferConfidence': 0.99545, 'type': 'NORMAL', 'subFields': [{'boundingPoly': {'vertices': [{'x': 77.0, 'y': 160.0}, {'x': 135.0, 'y': 160.0}, {'x': 135.0, 'y': 171.0}, {'x': 77.0, 'y': 171.0}]}, 'inferText': '받는분(상호)', 'inferConfidence': 0.9993, 'lineBreak': False}, {'boundingPoly': {'vertices': [{'x': 135.0, 'y': 158.0}, {'x': 206.0, 'y': 158.0}, {'x': 206.0, 'y': 195.0}, {'x': 135.0, 'y': 195.0}]}, 'inferText': '김진영', 'inferConfidence': 0.9916, 'lineBreak': False}]}, {'name': '받는분 전화번호 1', 'valueType': 'ALL', 'boundingPoly': {'vertices': [{'x': 217.0, 'y': 160.0}, {'x': 313.0, 'y': 160.0}, {'x': 313.0, 'y': 192.0}, {'x': 217.0, 'y': 192.0}]}, 'inferText': '받는 문 :\\n12-345', 'inferConfidence': 0.88615, 'type': 'NORMAL', 'subFields': [{'boundingPoly': {'vertices': [{'x': 217.0, 'y': 160.0}, {'x': 266.0, 'y': 160.0}, {'x': 266.0, 'y': 170.0}, {'x': 217.0, 'y': 170.0}]}, 'inferText': '받는 문 :', 'inferConfidence': 0.7723, 'lineBreak': False}, {'boundingPoly': {'vertices': [{'x': 241.0, 'y': 171.0}, {'x': 313.0, 'y': 171.0}, {'x': 313.0, 'y': 192.0}, {'x': 240.0, 'y': 192.0}]}, 'inferText': '12-345', 'inferConfidence': 1.0, 'lineBreak': False}]}, {'name': '받는분 주소 1', 'valueType': 'ALL', 'boundingPoly': {'vertices': [{'x': 346.0, 'y': 160.0}, {'x': 582.0, 'y': 160.0}, {'x': 582.0, 'y': 202.0}, {'x': 346.0, 'y': 202.0}]}, 'inferText': '받는분주소: 서울 중구 통일로10', 'inferConfidence': 0.9495, 'type': 'NORMAL', 'subFields': [{'boundingPoly': {'vertices': [{'x': 346.0, 'y': 160.0}, {'x': 402.0, 'y': 160.0}, {'x': 402.0, 'y': 170.0}, {'x': 346.0, 'y': 170.0}]}, 'inferText': '받는분주소:', 'inferConfidence': 0.9229, 'lineBreak': False}, {'boundingPoly': {'vertices': [{'x': 401.0, 'y': 161.0}, {'x': 582.0, 'y': 161.0}, {'x': 582.0, 'y': 202.0}, {'x': 401.0, 'y': 202.0}]}, 'inferText': '서울 중구 통일로10', 'inferConfidence': 0.9761, 'lineBreak': True}]}, {'name': '받는분 성함 2', 'valueType': 'ALL', 'boundingPoly': {'vertices': [{'x': 76.0, 'y': 247.0}, {'x': 203.0, 'y': 247.0}, {'x': 203.0, 'y': 284.0}, {'x': 76.0, 'y': 284.0}]}, 'inferText': '받는분(상호) 김지식', 'inferConfidence': 0.99775, 'type': 'NORMAL', 'subFields': [{'boundingPoly': {'vertices': [{'x': 76.0, 'y': 248.0}, {'x': 135.0, 'y': 248.0}, {'x': 135.0, 'y': 258.0}, {'x': 76.0, 'y': 258.0}]}, 'inferText': '받는분(상호)', 'inferConfidence': 0.9956, 'lineBreak': False}, {'boundingPoly': {'vertices': [{'x': 133.0, 'y': 247.0}, {'x': 203.0, 'y': 247.0}, {'x': 203.0, 'y': 284.0}, {'x': 133.0, 'y': 284.0}]}, 'inferText': '김지식', 'inferConfidence': 0.9999, 'lineBreak': False}]}, {'name': '받는분 전화번호 2', 'valueType': 'ALL', 'boundingPoly': {'vertices': [{'x': 218.0, 'y': 248.0}, {'x': 319.0, 'y': 248.0}, {'x': 319.0, 'y': 281.0}, {'x': 218.0, 'y': 281.0}]}, 'inferText': '받는분 : 1-7778', 'inferConfidence': 0.8861, 'type': 'NORMAL', 'subFields': [{'boundingPoly': {'vertices': [{'x': 218.0, 'y': 248.0}, {'x': 266.0, 'y': 248.0}, {'x': 266.0, 'y': 258.0}, {'x': 218.0, 'y': 258.0}]}, 'inferText': '받는분 :', 'inferConfidence': 0.8437, 'lineBreak': False}, {'boundingPoly': {'vertices': [{'x': 242.0, 'y': 255.0}, {'x': 319.0, 'y': 255.0}, {'x': 319.0, 'y': 281.0}, {'x': 242.0, 'y': 281.0}]}, 'inferText': '1-7778', 'inferConfidence': 0.9285, 'lineBreak': False}]}, {'name': '받는분 주소 2', 'valueType': 'ALL', 'boundingPoly': {'vertices': [{'x': 346.0, 'y': 247.0}, {'x': 628.0, 'y': 247.0}, {'x': 628.0, 'y': 287.0}, {'x': 346.0, 'y': 287.0}]}, 'inferText': '받는분 주소: 서울 강남구 테헤란로152', 'inferConfidence': 0.99816, 'type': 'NORMAL', 'subFields': [{'boundingPoly': {'vertices': [{'x': 346.0, 'y': 248.0}, {'x': 377.0, 'y': 248.0}, {'x': 377.0, 'y': 259.0}, {'x': 346.0, 'y': 259.0}]}, 'inferText': '받는분', 'inferConfidence': 0.9997, 'lineBreak': False}, {'boundingPoly': {'vertices': [{'x': 377.0, 'y': 248.0}, {'x': 402.0, 'y': 248.0}, {'x': 402.0, 'y': 257.0}, {'x': 377.0, 'y': 257.0}]}, 'inferText': '주소:', 'inferConfidence': 0.9981, 'lineBreak': False}, {'boundingPoly': {'vertices': [{'x': 404.0, 'y': 247.0}, {'x': 452.0, 'y': 247.0}, {'x': 452.0, 'y': 286.0}, {'x': 404.0, 'y': 286.0}]}, 'inferText': '서울', 'inferConfidence': 1.0, 'lineBreak': True}, {'boundingPoly': {'vertices': [{'x': 454.0, 'y': 247.0}, {'x': 521.0, 'y': 247.0}, {'x': 521.0, 'y': 287.0}, {'x': 454.0, 'y': 287.0}]}, 'inferText': '강남구', 'inferConfidence': 1.0, 'lineBreak': False}, {'boundingPoly': {'vertices': [{'x': 516.0, 'y': 250.0}, {'x': 628.0, 'y': 250.0}, {'x': 628.0, 'y': 281.0}, {'x': 516.0, 'y': 281.0}]}, 'inferText': '테헤란로152', 'inferConfidence': 0.993, 'lineBreak': True}]}, {'name': '받는분 성함 3', 'valueType': 'ALL', 'boundingPoly': {'vertices': [{'x': 74.0, 'y': 330.0}, {'x': 197.0, 'y': 334.0}, {'x': 196.0, 'y': 372.0}, {'x': 73.0, 'y': 368.0}]}, 'inferText': '신재호', 'inferConfidence': 0.8146, 'type': 'NORMAL', 'subFields': [{'boundingPoly': {'vertices': [{'x': 74.0, 'y': 330.0}, {'x': 197.0, 'y': 334.0}, {'x': 196.0, 'y': 372.0}, {'x': 73.0, 'y': 368.0}]}, 'inferText': '신재호', 'inferConfidence': 0.8146, 'lineBreak': False}]}, {'name': '받는분 전화번호 3', 'valueType': 'ALL', 'boundingPoly': {'vertices': [{'x': 218.0, 'y': 335.0}, {'x': 328.0, 'y': 335.0}, {'x': 328.0, 'y': 369.0}, {'x': 218.0, 'y': 369.0}]}, 'inferText': '받는분:\\n63-123', 'inferConfidence': 0.9669, 'type': 'NORMAL', 'subFields': [{'boundingPoly': {'vertices': [{'x': 218.0, 'y': 335.0}, {'x': 266.0, 'y': 335.0}, {'x': 266.0, 'y': 344.0}, {'x': 218.0, 'y': 344.0}]}, 'inferText': '받는분:', 'inferConfidence': 0.9348, 'lineBreak': False}, {'boundingPoly': {'vertices': [{'x': 244.0, 'y': 347.0}, {'x': 328.0, 'y': 347.0}, {'x': 328.0, 'y': 369.0}, {'x': 244.0, 'y': 369.0}]}, 'inferText': '63-123', 'inferConfidence': 0.999, 'lineBreak': False}]}, {'name': '받는분 주소 3', 'valueType': 'ALL', 'boundingPoly': {'vertices': [{'x': 346.0, 'y': 332.0}, {'x': 636.0, 'y': 332.0}, {'x': 636.0, 'y': 375.0}, {'x': 346.0, 'y': 375.0}]}, 'inferText': '받는분 주소: 충청도 세종시 남세종로 340', 'inferConfidence': 0.99840003, 'type': 'NORMAL', 'subFields': [{'boundingPoly': {'vertices': [{'x': 346.0, 'y': 335.0}, {'x': 376.0, 'y': 335.0}, {'x': 376.0, 'y': 345.0}, {'x': 346.0, 'y': 345.0}]}, 'inferText': '받는분', 'inferConfidence': 0.9996, 'lineBreak': False}, {'boundingPoly': {'vertices': [{'x': 377.0, 'y': 335.0}, {'x': 402.0, 'y': 335.0}, {'x': 402.0, 'y': 344.0}, {'x': 377.0, 'y': 344.0}]}, 'inferText': '주소:', 'inferConfidence': 0.9985, 'lineBreak': True}, {'boundingPoly': {'vertices': [{'x': 412.0, 'y': 332.0}, {'x': 479.0, 'y': 332.0}, {'x': 479.0, 'y': 375.0}, {'x': 412.0, 'y': 375.0}]}, 'inferText': '충청도', 'inferConfidence': 1.0, 'lineBreak': False}, {'boundingPoly': {'vertices': [{'x': 478.0, 'y': 338.0}, {'x': 609.0, 'y': 338.0}, {'x': 609.0, 'y': 372.0}, {'x': 478.0, 'y': 372.0}]}, 'inferText': '세종시 남세종로', 'inferConfidence': 0.994, 'lineBreak': False}, {'boundingPoly': {'vertices': [{'x': 603.0, 'y': 344.0}, {'x': 636.0, 'y': 344.0}, {'x': 636.0, 'y': 363.0}, {'x': 603.0, 'y': 363.0}]}, 'inferText': '340', 'inferConfidence': 0.9999, 'lineBreak': True}]}, {'name': '받는분 성함 4', 'valueType': 'ALL', 'boundingPoly': {'vertices': [{'x': 77.0, 'y': 421.0}, {'x': 205.0, 'y': 421.0}, {'x': 205.0, 'y': 462.0}, {'x': 77.0, 'y': 461.0}]}, 'inferText': '받는분(상호) 조정범', 'inferConfidence': 0.9984, 'type': 'NORMAL', 'subFields': [{'boundingPoly': {'vertices': [{'x': 77.0, 'y': 421.0}, {'x': 134.0, 'y': 421.0}, {'x': 134.0, 'y': 432.0}, {'x': 77.0, 'y': 432.0}]}, 'inferText': '받는분(상호)', 'inferConfidence': 0.9986, 'lineBreak': False}, {'boundingPoly': {'vertices': [{'x': 130.0, 'y': 421.0}, {'x': 205.0, 'y': 421.0}, {'x': 205.0, 'y': 462.0}, {'x': 129.0, 'y': 461.0}]}, 'inferText': '조정범', 'inferConfidence': 0.9982, 'lineBreak': False}]}, {'name': '받는분 전화번호 4', 'valueType': 'ALL', 'boundingPoly': {'vertices': [{'x': 219.0, 'y': 422.0}, {'x': 301.0, 'y': 422.0}, {'x': 301.0, 'y': 457.0}, {'x': 219.0, 'y': 457.0}]}, 'inferText': '받는분\\n887 -', 'inferConfidence': 0.9966, 'type': 'NORMAL', 'subFields': [{'boundingPoly': {'vertices': [{'x': 219.0, 'y': 422.0}, {'x': 258.0, 'y': 422.0}, {'x': 258.0, 'y': 431.0}, {'x': 219.0, 'y': 431.0}]}, 'inferText': '받는분', 'inferConfidence': 0.9996, 'lineBreak': False}, {'boundingPoly': {'vertices': [{'x': 244.0, 'y': 434.0}, {'x': 288.0, 'y': 434.0}, {'x': 288.0, 'y': 457.0}, {'x': 244.0, 'y': 457.0}]}, 'inferText': '887', 'inferConfidence': 0.9907, 'lineBreak': False}, {'boundingPoly': {'vertices': [{'x': 290.0, 'y': 438.0}, {'x': 301.0, 'y': 438.0}, {'x': 301.0, 'y': 448.0}, {'x': 290.0, 'y': 448.0}]}, 'inferText': '-', 'inferConfidence': 0.9995, 'lineBreak': False}]}, {'name': '받는분 주소 4', 'valueType': 'ALL', 'boundingPoly': {'vertices': [{'x': 346.0, 'y': 421.0}, {'x': 623.0, 'y': 421.0}, {'x': 623.0, 'y': 461.0}, {'x': 346.0, 'y': 461.0}]}, 'inferText': '받는분 주소: 제주 서귀포시 서귀동 306-2', 'inferConfidence': 0.99543333, 'type': 'NORMAL', 'subFields': [{'boundingPoly': {'vertices': [{'x': 346.0, 'y': 422.0}, {'x': 376.0, 'y': 422.0}, {'x': 376.0, 'y': 432.0}, {'x': 346.0, 'y': 432.0}]}, 'inferText': '받는분', 'inferConfidence': 0.9999, 'lineBreak': True}, {'boundingPoly': {'vertices': [{'x': 377.0, 'y': 421.0}, {'x': 403.0, 'y': 421.0}, {'x': 403.0, 'y': 432.0}, {'x': 377.0, 'y': 432.0}]}, 'inferText': '주소:', 'inferConfidence': 0.9989, 'lineBreak': False}, {'boundingPoly': {'vertices': [{'x': 402.0, 'y': 424.0}, {'x': 445.0, 'y': 424.0}, {'x': 445.0, 'y': 461.0}, {'x': 402.0, 'y': 461.0}]}, 'inferText': '제주', 'inferConfidence': 1.0, 'lineBreak': False}, {'boundingPoly': {'vertices': [{'x': 440.0, 'y': 425.0}, {'x': 517.0, 'y': 425.0}, {'x': 517.0, 'y': 461.0}, {'x': 440.0, 'y': 461.0}]}, 'inferText': '서귀포시', 'inferConfidence': 0.9996, 'lineBreak': False}, {'boundingPoly': {'vertices': [{'x': 522.0, 'y': 427.0}, {'x': 576.0, 'y': 428.0}, {'x': 575.0, 'y': 460.0}, {'x': 521.0, 'y': 459.0}]}, 'inferText': '서귀동', 'inferConfidence': 0.9823, 'lineBreak': False}, {'boundingPoly': {'vertices': [{'x': 575.0, 'y': 429.0}, {'x': 623.0, 'y': 429.0}, {'x': 623.0, 'y': 453.0}, {'x': 575.0, 'y': 453.0}]}, 'inferText': '306-2', 'inferConfidence': 0.9919, 'lineBreak': True}]}]}]}\n"
          ]
        }
      ]
    },
    {
      "cell_type": "code",
      "metadata": {
        "id": "lqMVe0FCyTRd"
      },
      "source": [
        "with open('경동택배_샘플_output.json', 'w', encoding='utf-8') as f:\n",
        "    json.dump(res, f, ensure_ascii=False, indent=4)"
      ],
      "execution_count": 20,
      "outputs": []
    },
    {
      "cell_type": "code",
      "metadata": {
        "colab": {
          "base_uri": "https://localhost:8080/"
        },
        "id": "S9cEnlCd6wrR",
        "outputId": "a55a3a4a-0d6d-4ff8-890f-bae4fa777730"
      },
      "source": [
        "import json\n",
        "\n",
        "with open('/content/drive/MyDrive/data/API/json/경동택배_샘플_output.json', 'r', encoding = 'utf-8') as f:\n",
        "    res = json.load(f)\n",
        "res"
      ],
      "execution_count": 104,
      "outputs": [
        {
          "output_type": "execute_result",
          "data": {
            "text/plain": [
              "{'images': [{'fields': [{'boundingPoly': {'vertices': [{'x': 238.0, 'y': 79.0},\n",
              "       {'x': 356.0, 'y': 79.0},\n",
              "       {'x': 356.0, 'y': 116.0},\n",
              "       {'x': 238.0, 'y': 116.0}]},\n",
              "     'inferConfidence': 0.9998,\n",
              "     'inferText': '멀티캠퍼스',\n",
              "     'name': '보내는분 성함',\n",
              "     'subFields': [{'boundingPoly': {'vertices': [{'x': 238.0, 'y': 79.0},\n",
              "         {'x': 356.0, 'y': 79.0},\n",
              "         {'x': 356.0, 'y': 116.0},\n",
              "         {'x': 238.0, 'y': 116.0}]},\n",
              "       'inferConfidence': 0.9998,\n",
              "       'inferText': '멀티캠퍼스',\n",
              "       'lineBreak': False}],\n",
              "     'type': 'NORMAL',\n",
              "     'valueType': 'ALL'},\n",
              "    {'boundingPoly': {'vertices': [{'x': 406.0, 'y': 81.0},\n",
              "       {'x': 568.0, 'y': 81.0},\n",
              "       {'x': 568.0, 'y': 105.0},\n",
              "       {'x': 406.0, 'y': 105.0}]},\n",
              "     'inferConfidence': 0.9978,\n",
              "     'inferText': '01-234-5678',\n",
              "     'name': '보내는분 전화번호',\n",
              "     'subFields': [{'boundingPoly': {'vertices': [{'x': 406.0, 'y': 81.0},\n",
              "         {'x': 568.0, 'y': 81.0},\n",
              "         {'x': 568.0, 'y': 105.0},\n",
              "         {'x': 406.0, 'y': 105.0}]},\n",
              "       'inferConfidence': 0.9978,\n",
              "       'inferText': '01-234-5678',\n",
              "       'lineBreak': True}],\n",
              "     'type': 'NORMAL',\n",
              "     'valueType': 'ALL'},\n",
              "    {'boundingPoly': {'vertices': [{'x': 77.0, 'y': 158.0},\n",
              "       {'x': 206.0, 'y': 158.0},\n",
              "       {'x': 206.0, 'y': 195.0},\n",
              "       {'x': 77.0, 'y': 195.0}]},\n",
              "     'inferConfidence': 0.99545,\n",
              "     'inferText': '받는분(상호) 김진영',\n",
              "     'name': '받는분 성함 1',\n",
              "     'subFields': [{'boundingPoly': {'vertices': [{'x': 77.0, 'y': 160.0},\n",
              "         {'x': 135.0, 'y': 160.0},\n",
              "         {'x': 135.0, 'y': 171.0},\n",
              "         {'x': 77.0, 'y': 171.0}]},\n",
              "       'inferConfidence': 0.9993,\n",
              "       'inferText': '받는분(상호)',\n",
              "       'lineBreak': False},\n",
              "      {'boundingPoly': {'vertices': [{'x': 135.0, 'y': 158.0},\n",
              "         {'x': 206.0, 'y': 158.0},\n",
              "         {'x': 206.0, 'y': 195.0},\n",
              "         {'x': 135.0, 'y': 195.0}]},\n",
              "       'inferConfidence': 0.9916,\n",
              "       'inferText': '김진영',\n",
              "       'lineBreak': False}],\n",
              "     'type': 'NORMAL',\n",
              "     'valueType': 'ALL'},\n",
              "    {'boundingPoly': {'vertices': [{'x': 217.0, 'y': 160.0},\n",
              "       {'x': 313.0, 'y': 160.0},\n",
              "       {'x': 313.0, 'y': 192.0},\n",
              "       {'x': 217.0, 'y': 192.0}]},\n",
              "     'inferConfidence': 0.88615,\n",
              "     'inferText': '받는 문 :\\n12-345',\n",
              "     'name': '받는분 전화번호 1',\n",
              "     'subFields': [{'boundingPoly': {'vertices': [{'x': 217.0, 'y': 160.0},\n",
              "         {'x': 266.0, 'y': 160.0},\n",
              "         {'x': 266.0, 'y': 170.0},\n",
              "         {'x': 217.0, 'y': 170.0}]},\n",
              "       'inferConfidence': 0.7723,\n",
              "       'inferText': '받는 문 :',\n",
              "       'lineBreak': False},\n",
              "      {'boundingPoly': {'vertices': [{'x': 241.0, 'y': 171.0},\n",
              "         {'x': 313.0, 'y': 171.0},\n",
              "         {'x': 313.0, 'y': 192.0},\n",
              "         {'x': 240.0, 'y': 192.0}]},\n",
              "       'inferConfidence': 1.0,\n",
              "       'inferText': '12-345',\n",
              "       'lineBreak': False}],\n",
              "     'type': 'NORMAL',\n",
              "     'valueType': 'ALL'},\n",
              "    {'boundingPoly': {'vertices': [{'x': 346.0, 'y': 160.0},\n",
              "       {'x': 582.0, 'y': 160.0},\n",
              "       {'x': 582.0, 'y': 202.0},\n",
              "       {'x': 346.0, 'y': 202.0}]},\n",
              "     'inferConfidence': 0.9495,\n",
              "     'inferText': '받는분주소: 서울 중구 통일로10',\n",
              "     'name': '받는분 주소 1',\n",
              "     'subFields': [{'boundingPoly': {'vertices': [{'x': 346.0, 'y': 160.0},\n",
              "         {'x': 402.0, 'y': 160.0},\n",
              "         {'x': 402.0, 'y': 170.0},\n",
              "         {'x': 346.0, 'y': 170.0}]},\n",
              "       'inferConfidence': 0.9229,\n",
              "       'inferText': '받는분주소:',\n",
              "       'lineBreak': False},\n",
              "      {'boundingPoly': {'vertices': [{'x': 401.0, 'y': 161.0},\n",
              "         {'x': 582.0, 'y': 161.0},\n",
              "         {'x': 582.0, 'y': 202.0},\n",
              "         {'x': 401.0, 'y': 202.0}]},\n",
              "       'inferConfidence': 0.9761,\n",
              "       'inferText': '서울 중구 통일로10',\n",
              "       'lineBreak': True}],\n",
              "     'type': 'NORMAL',\n",
              "     'valueType': 'ALL'},\n",
              "    {'boundingPoly': {'vertices': [{'x': 76.0, 'y': 247.0},\n",
              "       {'x': 203.0, 'y': 247.0},\n",
              "       {'x': 203.0, 'y': 284.0},\n",
              "       {'x': 76.0, 'y': 284.0}]},\n",
              "     'inferConfidence': 0.99775,\n",
              "     'inferText': '받는분(상호) 김지식',\n",
              "     'name': '받는분 성함 2',\n",
              "     'subFields': [{'boundingPoly': {'vertices': [{'x': 76.0, 'y': 248.0},\n",
              "         {'x': 135.0, 'y': 248.0},\n",
              "         {'x': 135.0, 'y': 258.0},\n",
              "         {'x': 76.0, 'y': 258.0}]},\n",
              "       'inferConfidence': 0.9956,\n",
              "       'inferText': '받는분(상호)',\n",
              "       'lineBreak': False},\n",
              "      {'boundingPoly': {'vertices': [{'x': 133.0, 'y': 247.0},\n",
              "         {'x': 203.0, 'y': 247.0},\n",
              "         {'x': 203.0, 'y': 284.0},\n",
              "         {'x': 133.0, 'y': 284.0}]},\n",
              "       'inferConfidence': 0.9999,\n",
              "       'inferText': '김지식',\n",
              "       'lineBreak': False}],\n",
              "     'type': 'NORMAL',\n",
              "     'valueType': 'ALL'},\n",
              "    {'boundingPoly': {'vertices': [{'x': 218.0, 'y': 248.0},\n",
              "       {'x': 319.0, 'y': 248.0},\n",
              "       {'x': 319.0, 'y': 281.0},\n",
              "       {'x': 218.0, 'y': 281.0}]},\n",
              "     'inferConfidence': 0.8861,\n",
              "     'inferText': '받는분 : 1-7778',\n",
              "     'name': '받는분 전화번호 2',\n",
              "     'subFields': [{'boundingPoly': {'vertices': [{'x': 218.0, 'y': 248.0},\n",
              "         {'x': 266.0, 'y': 248.0},\n",
              "         {'x': 266.0, 'y': 258.0},\n",
              "         {'x': 218.0, 'y': 258.0}]},\n",
              "       'inferConfidence': 0.8437,\n",
              "       'inferText': '받는분 :',\n",
              "       'lineBreak': False},\n",
              "      {'boundingPoly': {'vertices': [{'x': 242.0, 'y': 255.0},\n",
              "         {'x': 319.0, 'y': 255.0},\n",
              "         {'x': 319.0, 'y': 281.0},\n",
              "         {'x': 242.0, 'y': 281.0}]},\n",
              "       'inferConfidence': 0.9285,\n",
              "       'inferText': '1-7778',\n",
              "       'lineBreak': False}],\n",
              "     'type': 'NORMAL',\n",
              "     'valueType': 'ALL'},\n",
              "    {'boundingPoly': {'vertices': [{'x': 346.0, 'y': 247.0},\n",
              "       {'x': 628.0, 'y': 247.0},\n",
              "       {'x': 628.0, 'y': 287.0},\n",
              "       {'x': 346.0, 'y': 287.0}]},\n",
              "     'inferConfidence': 0.99816,\n",
              "     'inferText': '받는분 주소: 서울 강남구 테헤란로152',\n",
              "     'name': '받는분 주소 2',\n",
              "     'subFields': [{'boundingPoly': {'vertices': [{'x': 346.0, 'y': 248.0},\n",
              "         {'x': 377.0, 'y': 248.0},\n",
              "         {'x': 377.0, 'y': 259.0},\n",
              "         {'x': 346.0, 'y': 259.0}]},\n",
              "       'inferConfidence': 0.9997,\n",
              "       'inferText': '받는분',\n",
              "       'lineBreak': False},\n",
              "      {'boundingPoly': {'vertices': [{'x': 377.0, 'y': 248.0},\n",
              "         {'x': 402.0, 'y': 248.0},\n",
              "         {'x': 402.0, 'y': 257.0},\n",
              "         {'x': 377.0, 'y': 257.0}]},\n",
              "       'inferConfidence': 0.9981,\n",
              "       'inferText': '주소:',\n",
              "       'lineBreak': False},\n",
              "      {'boundingPoly': {'vertices': [{'x': 404.0, 'y': 247.0},\n",
              "         {'x': 452.0, 'y': 247.0},\n",
              "         {'x': 452.0, 'y': 286.0},\n",
              "         {'x': 404.0, 'y': 286.0}]},\n",
              "       'inferConfidence': 1.0,\n",
              "       'inferText': '서울',\n",
              "       'lineBreak': True},\n",
              "      {'boundingPoly': {'vertices': [{'x': 454.0, 'y': 247.0},\n",
              "         {'x': 521.0, 'y': 247.0},\n",
              "         {'x': 521.0, 'y': 287.0},\n",
              "         {'x': 454.0, 'y': 287.0}]},\n",
              "       'inferConfidence': 1.0,\n",
              "       'inferText': '강남구',\n",
              "       'lineBreak': False},\n",
              "      {'boundingPoly': {'vertices': [{'x': 516.0, 'y': 250.0},\n",
              "         {'x': 628.0, 'y': 250.0},\n",
              "         {'x': 628.0, 'y': 281.0},\n",
              "         {'x': 516.0, 'y': 281.0}]},\n",
              "       'inferConfidence': 0.993,\n",
              "       'inferText': '테헤란로152',\n",
              "       'lineBreak': True}],\n",
              "     'type': 'NORMAL',\n",
              "     'valueType': 'ALL'},\n",
              "    {'boundingPoly': {'vertices': [{'x': 74.0, 'y': 330.0},\n",
              "       {'x': 197.0, 'y': 334.0},\n",
              "       {'x': 196.0, 'y': 372.0},\n",
              "       {'x': 73.0, 'y': 368.0}]},\n",
              "     'inferConfidence': 0.8146,\n",
              "     'inferText': '신재호',\n",
              "     'name': '받는분 성함 3',\n",
              "     'subFields': [{'boundingPoly': {'vertices': [{'x': 74.0, 'y': 330.0},\n",
              "         {'x': 197.0, 'y': 334.0},\n",
              "         {'x': 196.0, 'y': 372.0},\n",
              "         {'x': 73.0, 'y': 368.0}]},\n",
              "       'inferConfidence': 0.8146,\n",
              "       'inferText': '신재호',\n",
              "       'lineBreak': False}],\n",
              "     'type': 'NORMAL',\n",
              "     'valueType': 'ALL'},\n",
              "    {'boundingPoly': {'vertices': [{'x': 218.0, 'y': 335.0},\n",
              "       {'x': 328.0, 'y': 335.0},\n",
              "       {'x': 328.0, 'y': 369.0},\n",
              "       {'x': 218.0, 'y': 369.0}]},\n",
              "     'inferConfidence': 0.9669,\n",
              "     'inferText': '받는분:\\n63-123',\n",
              "     'name': '받는분 전화번호 3',\n",
              "     'subFields': [{'boundingPoly': {'vertices': [{'x': 218.0, 'y': 335.0},\n",
              "         {'x': 266.0, 'y': 335.0},\n",
              "         {'x': 266.0, 'y': 344.0},\n",
              "         {'x': 218.0, 'y': 344.0}]},\n",
              "       'inferConfidence': 0.9348,\n",
              "       'inferText': '받는분:',\n",
              "       'lineBreak': False},\n",
              "      {'boundingPoly': {'vertices': [{'x': 244.0, 'y': 347.0},\n",
              "         {'x': 328.0, 'y': 347.0},\n",
              "         {'x': 328.0, 'y': 369.0},\n",
              "         {'x': 244.0, 'y': 369.0}]},\n",
              "       'inferConfidence': 0.999,\n",
              "       'inferText': '63-123',\n",
              "       'lineBreak': False}],\n",
              "     'type': 'NORMAL',\n",
              "     'valueType': 'ALL'},\n",
              "    {'boundingPoly': {'vertices': [{'x': 346.0, 'y': 332.0},\n",
              "       {'x': 636.0, 'y': 332.0},\n",
              "       {'x': 636.0, 'y': 375.0},\n",
              "       {'x': 346.0, 'y': 375.0}]},\n",
              "     'inferConfidence': 0.99840003,\n",
              "     'inferText': '받는분 주소: 충청도 세종시 남세종로 340',\n",
              "     'name': '받는분 주소 3',\n",
              "     'subFields': [{'boundingPoly': {'vertices': [{'x': 346.0, 'y': 335.0},\n",
              "         {'x': 376.0, 'y': 335.0},\n",
              "         {'x': 376.0, 'y': 345.0},\n",
              "         {'x': 346.0, 'y': 345.0}]},\n",
              "       'inferConfidence': 0.9996,\n",
              "       'inferText': '받는분',\n",
              "       'lineBreak': False},\n",
              "      {'boundingPoly': {'vertices': [{'x': 377.0, 'y': 335.0},\n",
              "         {'x': 402.0, 'y': 335.0},\n",
              "         {'x': 402.0, 'y': 344.0},\n",
              "         {'x': 377.0, 'y': 344.0}]},\n",
              "       'inferConfidence': 0.9985,\n",
              "       'inferText': '주소:',\n",
              "       'lineBreak': True},\n",
              "      {'boundingPoly': {'vertices': [{'x': 412.0, 'y': 332.0},\n",
              "         {'x': 479.0, 'y': 332.0},\n",
              "         {'x': 479.0, 'y': 375.0},\n",
              "         {'x': 412.0, 'y': 375.0}]},\n",
              "       'inferConfidence': 1.0,\n",
              "       'inferText': '충청도',\n",
              "       'lineBreak': False},\n",
              "      {'boundingPoly': {'vertices': [{'x': 478.0, 'y': 338.0},\n",
              "         {'x': 609.0, 'y': 338.0},\n",
              "         {'x': 609.0, 'y': 372.0},\n",
              "         {'x': 478.0, 'y': 372.0}]},\n",
              "       'inferConfidence': 0.994,\n",
              "       'inferText': '세종시 남세종로',\n",
              "       'lineBreak': False},\n",
              "      {'boundingPoly': {'vertices': [{'x': 603.0, 'y': 344.0},\n",
              "         {'x': 636.0, 'y': 344.0},\n",
              "         {'x': 636.0, 'y': 363.0},\n",
              "         {'x': 603.0, 'y': 363.0}]},\n",
              "       'inferConfidence': 0.9999,\n",
              "       'inferText': '340',\n",
              "       'lineBreak': True}],\n",
              "     'type': 'NORMAL',\n",
              "     'valueType': 'ALL'},\n",
              "    {'boundingPoly': {'vertices': [{'x': 77.0, 'y': 421.0},\n",
              "       {'x': 205.0, 'y': 421.0},\n",
              "       {'x': 205.0, 'y': 462.0},\n",
              "       {'x': 77.0, 'y': 461.0}]},\n",
              "     'inferConfidence': 0.9984,\n",
              "     'inferText': '받는분(상호) 조정범',\n",
              "     'name': '받는분 성함 4',\n",
              "     'subFields': [{'boundingPoly': {'vertices': [{'x': 77.0, 'y': 421.0},\n",
              "         {'x': 134.0, 'y': 421.0},\n",
              "         {'x': 134.0, 'y': 432.0},\n",
              "         {'x': 77.0, 'y': 432.0}]},\n",
              "       'inferConfidence': 0.9986,\n",
              "       'inferText': '받는분(상호)',\n",
              "       'lineBreak': False},\n",
              "      {'boundingPoly': {'vertices': [{'x': 130.0, 'y': 421.0},\n",
              "         {'x': 205.0, 'y': 421.0},\n",
              "         {'x': 205.0, 'y': 462.0},\n",
              "         {'x': 129.0, 'y': 461.0}]},\n",
              "       'inferConfidence': 0.9982,\n",
              "       'inferText': '조정범',\n",
              "       'lineBreak': False}],\n",
              "     'type': 'NORMAL',\n",
              "     'valueType': 'ALL'},\n",
              "    {'boundingPoly': {'vertices': [{'x': 219.0, 'y': 422.0},\n",
              "       {'x': 301.0, 'y': 422.0},\n",
              "       {'x': 301.0, 'y': 457.0},\n",
              "       {'x': 219.0, 'y': 457.0}]},\n",
              "     'inferConfidence': 0.9966,\n",
              "     'inferText': '받는분\\n887 -',\n",
              "     'name': '받는분 전화번호 4',\n",
              "     'subFields': [{'boundingPoly': {'vertices': [{'x': 219.0, 'y': 422.0},\n",
              "         {'x': 258.0, 'y': 422.0},\n",
              "         {'x': 258.0, 'y': 431.0},\n",
              "         {'x': 219.0, 'y': 431.0}]},\n",
              "       'inferConfidence': 0.9996,\n",
              "       'inferText': '받는분',\n",
              "       'lineBreak': False},\n",
              "      {'boundingPoly': {'vertices': [{'x': 244.0, 'y': 434.0},\n",
              "         {'x': 288.0, 'y': 434.0},\n",
              "         {'x': 288.0, 'y': 457.0},\n",
              "         {'x': 244.0, 'y': 457.0}]},\n",
              "       'inferConfidence': 0.9907,\n",
              "       'inferText': '887',\n",
              "       'lineBreak': False},\n",
              "      {'boundingPoly': {'vertices': [{'x': 290.0, 'y': 438.0},\n",
              "         {'x': 301.0, 'y': 438.0},\n",
              "         {'x': 301.0, 'y': 448.0},\n",
              "         {'x': 290.0, 'y': 448.0}]},\n",
              "       'inferConfidence': 0.9995,\n",
              "       'inferText': '-',\n",
              "       'lineBreak': False}],\n",
              "     'type': 'NORMAL',\n",
              "     'valueType': 'ALL'},\n",
              "    {'boundingPoly': {'vertices': [{'x': 346.0, 'y': 421.0},\n",
              "       {'x': 623.0, 'y': 421.0},\n",
              "       {'x': 623.0, 'y': 461.0},\n",
              "       {'x': 346.0, 'y': 461.0}]},\n",
              "     'inferConfidence': 0.99543333,\n",
              "     'inferText': '받는분 주소: 제주 서귀포시 서귀동 306-2',\n",
              "     'name': '받는분 주소 4',\n",
              "     'subFields': [{'boundingPoly': {'vertices': [{'x': 346.0, 'y': 422.0},\n",
              "         {'x': 376.0, 'y': 422.0},\n",
              "         {'x': 376.0, 'y': 432.0},\n",
              "         {'x': 346.0, 'y': 432.0}]},\n",
              "       'inferConfidence': 0.9999,\n",
              "       'inferText': '받는분',\n",
              "       'lineBreak': True},\n",
              "      {'boundingPoly': {'vertices': [{'x': 377.0, 'y': 421.0},\n",
              "         {'x': 403.0, 'y': 421.0},\n",
              "         {'x': 403.0, 'y': 432.0},\n",
              "         {'x': 377.0, 'y': 432.0}]},\n",
              "       'inferConfidence': 0.9989,\n",
              "       'inferText': '주소:',\n",
              "       'lineBreak': False},\n",
              "      {'boundingPoly': {'vertices': [{'x': 402.0, 'y': 424.0},\n",
              "         {'x': 445.0, 'y': 424.0},\n",
              "         {'x': 445.0, 'y': 461.0},\n",
              "         {'x': 402.0, 'y': 461.0}]},\n",
              "       'inferConfidence': 1.0,\n",
              "       'inferText': '제주',\n",
              "       'lineBreak': False},\n",
              "      {'boundingPoly': {'vertices': [{'x': 440.0, 'y': 425.0},\n",
              "         {'x': 517.0, 'y': 425.0},\n",
              "         {'x': 517.0, 'y': 461.0},\n",
              "         {'x': 440.0, 'y': 461.0}]},\n",
              "       'inferConfidence': 0.9996,\n",
              "       'inferText': '서귀포시',\n",
              "       'lineBreak': False},\n",
              "      {'boundingPoly': {'vertices': [{'x': 522.0, 'y': 427.0},\n",
              "         {'x': 576.0, 'y': 428.0},\n",
              "         {'x': 575.0, 'y': 460.0},\n",
              "         {'x': 521.0, 'y': 459.0}]},\n",
              "       'inferConfidence': 0.9823,\n",
              "       'inferText': '서귀동',\n",
              "       'lineBreak': False},\n",
              "      {'boundingPoly': {'vertices': [{'x': 575.0, 'y': 429.0},\n",
              "         {'x': 623.0, 'y': 429.0},\n",
              "         {'x': 623.0, 'y': 453.0},\n",
              "         {'x': 575.0, 'y': 453.0}]},\n",
              "       'inferConfidence': 0.9919,\n",
              "       'inferText': '306-2',\n",
              "       'lineBreak': True}],\n",
              "     'type': 'NORMAL',\n",
              "     'valueType': 'ALL'}],\n",
              "   'inferResult': 'SUCCESS',\n",
              "   'matchedTemplate': {'id': 11154, 'name': '경동'},\n",
              "   'message': 'SUCCESS',\n",
              "   'name': 'demo',\n",
              "   'title': {'boundingPoly': {'vertices': [{'x': 131.0, 'y': 19.0},\n",
              "      {'x': 230.0, 'y': 19.0},\n",
              "      {'x': 230.0, 'y': 47.0},\n",
              "      {'x': 131.0, 'y': 47.0}]},\n",
              "    'inferConfidence': 1.0,\n",
              "    'inferText': '경동택배',\n",
              "    'name': '경동택배',\n",
              "    'subFields': [{'boundingPoly': {'vertices': [{'x': 131.0, 'y': 19.0},\n",
              "        {'x': 230.0, 'y': 19.0},\n",
              "        {'x': 230.0, 'y': 47.0},\n",
              "        {'x': 131.0, 'y': 47.0}]},\n",
              "      'inferConfidence': 1.0,\n",
              "      'inferText': '경동택배',\n",
              "      'lineBreak': False}]},\n",
              "   'uid': '97f650188508472ab57e752d70e6af41',\n",
              "   'validationResult': {'result': 'NO_REQUESTED'}}],\n",
              " 'requestId': 'e950a926-4c92-483e-924a-6689addd089f',\n",
              " 'timestamp': 1634887113199,\n",
              " 'version': 'V2'}"
            ]
          },
          "metadata": {},
          "execution_count": 104
        }
      ]
    },
    {
      "cell_type": "code",
      "metadata": {
        "id": "lsvbSYzREQgn",
        "colab": {
          "base_uri": "https://localhost:8080/"
        },
        "outputId": "0dd5fd7c-3b2c-49c9-b937-be94fe32ffda"
      },
      "source": [
        "res['images'][0]\n",
        "title_list = [res['images'][0]['title']['inferText']]\n",
        "content_list = []\n",
        "\n",
        "len(res['images'][0]['fields'])\n",
        "for i in range(len(res['images'][0]['fields'])):\n",
        "    print(res['images'][0]['fields'][i]['inferText'])\n",
        "    content_list.append(res['images'][0]['fields'][i]['inferText'])\n",
        "title_list, content_list"
      ],
      "execution_count": 105,
      "outputs": [
        {
          "output_type": "stream",
          "name": "stdout",
          "text": [
            "멀티캠퍼스\n",
            "01-234-5678\n",
            "받는분(상호) 김진영\n",
            "받는 문 :\n",
            "12-345\n",
            "받는분주소: 서울 중구 통일로10\n",
            "받는분(상호) 김지식\n",
            "받는분 : 1-7778\n",
            "받는분 주소: 서울 강남구 테헤란로152\n",
            "신재호\n",
            "받는분:\n",
            "63-123\n",
            "받는분 주소: 충청도 세종시 남세종로 340\n",
            "받는분(상호) 조정범\n",
            "받는분\n",
            "887 -\n",
            "받는분 주소: 제주 서귀포시 서귀동 306-2\n"
          ]
        },
        {
          "output_type": "execute_result",
          "data": {
            "text/plain": [
              "(['경동택배'],\n",
              " ['멀티캠퍼스',\n",
              "  '01-234-5678',\n",
              "  '받는분(상호) 김진영',\n",
              "  '받는 문 :\\n12-345',\n",
              "  '받는분주소: 서울 중구 통일로10',\n",
              "  '받는분(상호) 김지식',\n",
              "  '받는분 : 1-7778',\n",
              "  '받는분 주소: 서울 강남구 테헤란로152',\n",
              "  '신재호',\n",
              "  '받는분:\\n63-123',\n",
              "  '받는분 주소: 충청도 세종시 남세종로 340',\n",
              "  '받는분(상호) 조정범',\n",
              "  '받는분\\n887 -',\n",
              "  '받는분 주소: 제주 서귀포시 서귀동 306-2'])"
            ]
          },
          "metadata": {},
          "execution_count": 105
        }
      ]
    },
    {
      "cell_type": "code",
      "metadata": {
        "colab": {
          "base_uri": "https://localhost:8080/",
          "height": 38
        },
        "id": "hxu1w6-s58Ys",
        "outputId": "c54b3d33-a492-48e0-be9d-117833b3fda6"
      },
      "source": [
        "# 받는분 주소 가져오기\n",
        "\n",
        "addr = res['images'][0]['fields'][4]['inferText'][7:]\n",
        "addr"
      ],
      "execution_count": 109,
      "outputs": [
        {
          "output_type": "execute_result",
          "data": {
            "application/vnd.google.colaboratory.intrinsic+json": {
              "type": "string"
            },
            "text/plain": [
              "'서울 중구 통일로10'"
            ]
          },
          "metadata": {},
          "execution_count": 109
        }
      ]
    },
    {
      "cell_type": "code",
      "metadata": {
        "colab": {
          "base_uri": "https://localhost:8080/",
          "height": 75
        },
        "id": "05v6m9jF65IX",
        "outputId": "a9a672aa-a659-4086-bd85-58b8f0ff32f0"
      },
      "source": [
        "import requests\n",
        "from urllib.parse import quote\n",
        "\n",
        "search_url = 'https://naveropenapi.apigw.ntruss.com/map-geocode/v2/geocode?query='\n",
        "url = f'{search_url}?query={quote(addr)}'\n",
        "url"
      ],
      "execution_count": 54,
      "outputs": [
        {
          "output_type": "execute_result",
          "data": {
            "application/vnd.google.colaboratory.intrinsic+json": {
              "type": "string"
            },
            "text/plain": [
              "'https://naveropenapi.apigw.ntruss.com/map-geocode/v2/geocode?query=?query=%EA%B2%BD%EA%B8%B0%20%EA%B3%A0%EC%96%91%EC%8B%9C%20%EB%8D%95%EC%96%91%EA%B5%AC%20%EA%B3%A0%EC%96%91%EC%8B%9C%EC%B2%A8%EB%A1%9C10%20%ED%94%BC%EC%B8%A0%0A%E4%B8%AD%0A24%EC%B8%B5%20%EB%AF%BC%EC%9B%90%EC%8B%A4'"
            ]
          },
          "metadata": {},
          "execution_count": 54
        }
      ]
    },
    {
      "cell_type": "code",
      "metadata": {
        "id": "zawzy61_-sas"
      },
      "source": [
        "# 재호님 코드 참고\n",
        "\n",
        "import pandas as pd\n",
        "idpw_link = '/content/drive/MyDrive/J4U/소스파일/api_key.xlsx'\n",
        "idpw = pd.read_excel(idpw_link, sheet_name='PJTJ4U')"
      ],
      "execution_count": 56,
      "outputs": []
    },
    {
      "cell_type": "code",
      "metadata": {
        "colab": {
          "base_uri": "https://localhost:8080/"
        },
        "id": "rE_II_b3-xMv",
        "outputId": "e0359da6-9683-48a1-db01-226c59b4715a"
      },
      "source": [
        "# 재호님 코드 참고\n",
        "\n",
        "len(idpw.iloc[3,3]), len(idpw.iloc[7,3])"
      ],
      "execution_count": 57,
      "outputs": [
        {
          "output_type": "execute_result",
          "data": {
            "text/plain": [
              "(10, 40)"
            ]
          },
          "metadata": {},
          "execution_count": 57
        }
      ]
    },
    {
      "cell_type": "code",
      "metadata": {
        "id": "QIIFx2-I-ymY"
      },
      "source": [
        "# 재호님 코드 참고\n",
        "\n",
        "import urllib.request\n",
        "import json\n",
        "\n",
        "client_id, client_secret = idpw.iloc[3,3], idpw.iloc[7,3]\n",
        "\n",
        "def search_map(search_text):\n",
        "    encText = urllib.parse.quote(search_text) \n",
        "    url = 'https://naveropenapi.apigw.ntruss.com/map-geocode/v2/geocode?query='+encText\n",
        "\n",
        "    request = urllib.request.Request(url)\n",
        "    request.add_header('X-NCP-APIGW-API-KEY-ID', client_id)\n",
        "    request.add_header('X-NCP-APIGW-API-KEY', client_secret)\n",
        "\n",
        "    response = urllib.request.urlopen(request)\n",
        "    rescode = response.getcode()\n",
        "\n",
        "    if(rescode==200):\n",
        "        response_body = response.read().decode('utf-8')\n",
        "        response_body = json.loads(response_body)\n",
        "        return response_body\n",
        "    else:\n",
        "        print(\"Error Code:\" + rescode)"
      ],
      "execution_count": 58,
      "outputs": []
    },
    {
      "cell_type": "code",
      "metadata": {
        "colab": {
          "base_uri": "https://localhost:8080/"
        },
        "id": "dphHAcxe-3bh",
        "outputId": "51a261c1-20ad-4612-96c0-3d3a2c0c3282"
      },
      "source": [
        "# 읽어온 송장 받는 사람 주소(addr)를 검색\n",
        "\n",
        "api_search = search_map(addr)\n",
        "api_search"
      ],
      "execution_count": 113,
      "outputs": [
        {
          "output_type": "execute_result",
          "data": {
            "text/plain": [
              "{'addresses': [{'addressElements': [{'code': '',\n",
              "     'longName': '서울특별시',\n",
              "     'shortName': '서울특별시',\n",
              "     'types': ['SIDO']},\n",
              "    {'code': '', 'longName': '중구', 'shortName': '중구', 'types': ['SIGUGUN']},\n",
              "    {'code': '',\n",
              "     'longName': '남대문로5가',\n",
              "     'shortName': '남대문로5가',\n",
              "     'types': ['DONGMYUN']},\n",
              "    {'code': '', 'longName': '', 'shortName': '', 'types': ['RI']},\n",
              "    {'code': '',\n",
              "     'longName': '통일로',\n",
              "     'shortName': '통일로',\n",
              "     'types': ['ROAD_NAME']},\n",
              "    {'code': '',\n",
              "     'longName': '10',\n",
              "     'shortName': '10',\n",
              "     'types': ['BUILDING_NUMBER']},\n",
              "    {'code': '',\n",
              "     'longName': '연세대학교 세브란스빌딩',\n",
              "     'shortName': '연세대학교 세브란스빌딩',\n",
              "     'types': ['BUILDING_NAME']},\n",
              "    {'code': '',\n",
              "     'longName': '84-11',\n",
              "     'shortName': '84-11',\n",
              "     'types': ['LAND_NUMBER']},\n",
              "    {'code': '',\n",
              "     'longName': '04527',\n",
              "     'shortName': '04527',\n",
              "     'types': ['POSTAL_CODE']}],\n",
              "   'distance': 0.0,\n",
              "   'englishAddress': '10, Tongil-ro, Jung-gu, Seoul, Republic of Korea',\n",
              "   'jibunAddress': '서울특별시 중구 남대문로5가 84-11 연세대학교 세브란스빌딩',\n",
              "   'roadAddress': '서울특별시 중구 통일로 10 연세대학교 세브란스빌딩',\n",
              "   'x': '126.9736575',\n",
              "   'y': '37.5570913'}],\n",
              " 'errorMessage': '',\n",
              " 'meta': {'count': 1, 'page': 1, 'totalCount': 1},\n",
              " 'status': 'OK'}"
            ]
          },
          "metadata": {},
          "execution_count": 113
        }
      ]
    },
    {
      "cell_type": "code",
      "metadata": {
        "id": "K9m5BMKhVKju"
      },
      "source": [
        "# 위도 경도 가져오기\n",
        "\n",
        "location = [api_search['addresses'][0]['y'], api_search['addresses'][0]['x']]"
      ],
      "execution_count": null,
      "outputs": []
    },
    {
      "cell_type": "code",
      "metadata": {
        "colab": {
          "base_uri": "https://localhost:8080/"
        },
        "id": "yFb3TVfSBMfa",
        "outputId": "f67802bb-390a-4f8a-8111-f02c088bb68d"
      },
      "source": [
        "# 문자열은 숫자로\n",
        "\n",
        "x = float(api_search['addresses'][0]['x'])\n",
        "y = float(api_search['addresses'][0]['y'])\n",
        "center = [y, x]\n",
        "center"
      ],
      "execution_count": 174,
      "outputs": [
        {
          "output_type": "execute_result",
          "data": {
            "text/plain": [
              "[37.5570913, 126.9736575]"
            ]
          },
          "metadata": {},
          "execution_count": 174
        }
      ]
    },
    {
      "cell_type": "code",
      "metadata": {
        "colab": {
          "base_uri": "https://localhost:8080/",
          "height": 447
        },
        "id": "3se5HvETQNHF",
        "outputId": "d802019d-3fae-4546-bace-b6283a8a71fe"
      },
      "source": [
        "import folium\n",
        "\n",
        "map = folium.Map(location = center, zoom_start = 16)\n",
        "\n",
        "folium.Marker(\n",
        "    location = center,\n",
        " #   popup = addr,\n",
        "    tooltip = addr,\n",
        "    icon = folium.Icon(color = 'red', icon = 'info-sign')\n",
        ").add_to(map)\n",
        "\n",
        "folium.CircleMarker(\n",
        "    radius = 150,\n",
        "    location = center,    \n",
        "#    popup = 'popup',\n",
        "    tooltip = '반경 150',\n",
        "    color = \"#3186cc\",\n",
        "    fill = False\n",
        ").add_to(map)\n",
        "\n",
        "map"
      ],
      "execution_count": 198,
      "outputs": [
        {
          "output_type": "execute_result",
          "data": {
            "text/html": [
              "<div style=\"width:100%;\"><div style=\"position:relative;width:100%;height:0;padding-bottom:60%;\"><span style=\"color:#565656\">Make this Notebook Trusted to load map: File -> Trust Notebook</span><iframe src=\"about:blank\" style=\"position:absolute;width:100%;height:100%;left:0;top:0;border:none !important;\" data-html=%3C%21DOCTYPE%20html%3E%0A%3Chead%3E%20%20%20%20%0A%20%20%20%20%3Cmeta%20http-equiv%3D%22content-type%22%20content%3D%22text/html%3B%20charset%3DUTF-8%22%20/%3E%0A%20%20%20%20%3Cscript%3EL_PREFER_CANVAS%3Dfalse%3B%20L_NO_TOUCH%3Dfalse%3B%20L_DISABLE_3D%3Dfalse%3B%3C/script%3E%0A%20%20%20%20%3Cscript%20src%3D%22https%3A//cdn.jsdelivr.net/npm/leaflet%401.4.0/dist/leaflet.js%22%3E%3C/script%3E%0A%20%20%20%20%3Cscript%20src%3D%22https%3A//code.jquery.com/jquery-1.12.4.min.js%22%3E%3C/script%3E%0A%20%20%20%20%3Cscript%20src%3D%22https%3A//maxcdn.bootstrapcdn.com/bootstrap/3.2.0/js/bootstrap.min.js%22%3E%3C/script%3E%0A%20%20%20%20%3Cscript%20src%3D%22https%3A//cdnjs.cloudflare.com/ajax/libs/Leaflet.awesome-markers/2.0.2/leaflet.awesome-markers.js%22%3E%3C/script%3E%0A%20%20%20%20%3Clink%20rel%3D%22stylesheet%22%20href%3D%22https%3A//cdn.jsdelivr.net/npm/leaflet%401.4.0/dist/leaflet.css%22/%3E%0A%20%20%20%20%3Clink%20rel%3D%22stylesheet%22%20href%3D%22https%3A//maxcdn.bootstrapcdn.com/bootstrap/3.2.0/css/bootstrap.min.css%22/%3E%0A%20%20%20%20%3Clink%20rel%3D%22stylesheet%22%20href%3D%22https%3A//maxcdn.bootstrapcdn.com/bootstrap/3.2.0/css/bootstrap-theme.min.css%22/%3E%0A%20%20%20%20%3Clink%20rel%3D%22stylesheet%22%20href%3D%22https%3A//maxcdn.bootstrapcdn.com/font-awesome/4.6.3/css/font-awesome.min.css%22/%3E%0A%20%20%20%20%3Clink%20rel%3D%22stylesheet%22%20href%3D%22https%3A//cdnjs.cloudflare.com/ajax/libs/Leaflet.awesome-markers/2.0.2/leaflet.awesome-markers.css%22/%3E%0A%20%20%20%20%3Clink%20rel%3D%22stylesheet%22%20href%3D%22https%3A//rawcdn.githack.com/python-visualization/folium/master/folium/templates/leaflet.awesome.rotate.css%22/%3E%0A%20%20%20%20%3Cstyle%3Ehtml%2C%20body%20%7Bwidth%3A%20100%25%3Bheight%3A%20100%25%3Bmargin%3A%200%3Bpadding%3A%200%3B%7D%3C/style%3E%0A%20%20%20%20%3Cstyle%3E%23map%20%7Bposition%3Aabsolute%3Btop%3A0%3Bbottom%3A0%3Bright%3A0%3Bleft%3A0%3B%7D%3C/style%3E%0A%20%20%20%20%0A%20%20%20%20%3Cmeta%20name%3D%22viewport%22%20content%3D%22width%3Ddevice-width%2C%0A%20%20%20%20%20%20%20%20initial-scale%3D1.0%2C%20maximum-scale%3D1.0%2C%20user-scalable%3Dno%22%20/%3E%0A%20%20%20%20%3Cstyle%3E%23map_2b075d9873124a9dbb1885848a84d71b%20%7B%0A%20%20%20%20%20%20%20%20position%3A%20relative%3B%0A%20%20%20%20%20%20%20%20width%3A%20100.0%25%3B%0A%20%20%20%20%20%20%20%20height%3A%20100.0%25%3B%0A%20%20%20%20%20%20%20%20left%3A%200.0%25%3B%0A%20%20%20%20%20%20%20%20top%3A%200.0%25%3B%0A%20%20%20%20%20%20%20%20%7D%0A%20%20%20%20%3C/style%3E%0A%3C/head%3E%0A%3Cbody%3E%20%20%20%20%0A%20%20%20%20%0A%20%20%20%20%3Cdiv%20class%3D%22folium-map%22%20id%3D%22map_2b075d9873124a9dbb1885848a84d71b%22%20%3E%3C/div%3E%0A%3C/body%3E%0A%3Cscript%3E%20%20%20%20%0A%20%20%20%20%0A%20%20%20%20%0A%20%20%20%20%20%20%20%20var%20bounds%20%3D%20null%3B%0A%20%20%20%20%0A%0A%20%20%20%20var%20map_2b075d9873124a9dbb1885848a84d71b%20%3D%20L.map%28%0A%20%20%20%20%20%20%20%20%27map_2b075d9873124a9dbb1885848a84d71b%27%2C%20%7B%0A%20%20%20%20%20%20%20%20center%3A%20%5B37.5570913%2C%20126.9736575%5D%2C%0A%20%20%20%20%20%20%20%20zoom%3A%2016%2C%0A%20%20%20%20%20%20%20%20maxBounds%3A%20bounds%2C%0A%20%20%20%20%20%20%20%20layers%3A%20%5B%5D%2C%0A%20%20%20%20%20%20%20%20worldCopyJump%3A%20false%2C%0A%20%20%20%20%20%20%20%20crs%3A%20L.CRS.EPSG3857%2C%0A%20%20%20%20%20%20%20%20zoomControl%3A%20true%2C%0A%20%20%20%20%20%20%20%20%7D%29%3B%0A%0A%0A%20%20%20%20%0A%20%20%20%20var%20tile_layer_206e4f16aa0348869304f4a64b178569%20%3D%20L.tileLayer%28%0A%20%20%20%20%20%20%20%20%27https%3A//%7Bs%7D.tile.openstreetmap.org/%7Bz%7D/%7Bx%7D/%7By%7D.png%27%2C%0A%20%20%20%20%20%20%20%20%7B%0A%20%20%20%20%20%20%20%20%22attribution%22%3A%20null%2C%0A%20%20%20%20%20%20%20%20%22detectRetina%22%3A%20false%2C%0A%20%20%20%20%20%20%20%20%22maxNativeZoom%22%3A%2018%2C%0A%20%20%20%20%20%20%20%20%22maxZoom%22%3A%2018%2C%0A%20%20%20%20%20%20%20%20%22minZoom%22%3A%200%2C%0A%20%20%20%20%20%20%20%20%22noWrap%22%3A%20false%2C%0A%20%20%20%20%20%20%20%20%22opacity%22%3A%201%2C%0A%20%20%20%20%20%20%20%20%22subdomains%22%3A%20%22abc%22%2C%0A%20%20%20%20%20%20%20%20%22tms%22%3A%20false%0A%7D%29.addTo%28map_2b075d9873124a9dbb1885848a84d71b%29%3B%0A%20%20%20%20%0A%20%20%20%20%20%20%20%20var%20marker_78760ff018fb4cd49dda860c472538ff%20%3D%20L.marker%28%0A%20%20%20%20%20%20%20%20%20%20%20%20%5B37.5570913%2C%20126.9736575%5D%2C%0A%20%20%20%20%20%20%20%20%20%20%20%20%7B%0A%20%20%20%20%20%20%20%20%20%20%20%20%20%20%20%20icon%3A%20new%20L.Icon.Default%28%29%2C%0A%20%20%20%20%20%20%20%20%20%20%20%20%20%20%20%20%7D%0A%20%20%20%20%20%20%20%20%20%20%20%20%29.addTo%28map_2b075d9873124a9dbb1885848a84d71b%29%3B%0A%20%20%20%20%20%20%20%20%0A%20%20%20%20%0A%0A%20%20%20%20%20%20%20%20%20%20%20%20%20%20%20%20var%20icon_47e2bc50662f480ab91a6ddd8e39dd2c%20%3D%20L.AwesomeMarkers.icon%28%7B%0A%20%20%20%20%20%20%20%20%20%20%20%20%20%20%20%20%20%20%20%20icon%3A%20%27info-sign%27%2C%0A%20%20%20%20%20%20%20%20%20%20%20%20%20%20%20%20%20%20%20%20iconColor%3A%20%27white%27%2C%0A%20%20%20%20%20%20%20%20%20%20%20%20%20%20%20%20%20%20%20%20markerColor%3A%20%27red%27%2C%0A%20%20%20%20%20%20%20%20%20%20%20%20%20%20%20%20%20%20%20%20prefix%3A%20%27glyphicon%27%2C%0A%20%20%20%20%20%20%20%20%20%20%20%20%20%20%20%20%20%20%20%20extraClasses%3A%20%27fa-rotate-0%27%0A%20%20%20%20%20%20%20%20%20%20%20%20%20%20%20%20%20%20%20%20%7D%29%3B%0A%20%20%20%20%20%20%20%20%20%20%20%20%20%20%20%20marker_78760ff018fb4cd49dda860c472538ff.setIcon%28icon_47e2bc50662f480ab91a6ddd8e39dd2c%29%3B%0A%20%20%20%20%20%20%20%20%20%20%20%20%0A%20%20%20%20%0A%20%20%20%20%20%20%20%20marker_78760ff018fb4cd49dda860c472538ff.bindTooltip%28%0A%20%20%20%20%20%20%20%20%20%20%20%20%60%3Cdiv%3E%60%0A%20%20%20%20%20%20%20%20%20%20%20%20%2B%20%60%EC%84%9C%EC%9A%B8%20%EC%A4%91%EA%B5%AC%20%ED%86%B5%EC%9D%BC%EB%A1%9C10%60%20%2B%20%60%3C/div%3E%60%2C%0A%20%20%20%20%20%20%20%20%20%20%20%20%7B%22sticky%22%3A%20true%7D%0A%20%20%20%20%20%20%20%20%29%3B%0A%20%20%20%20%20%20%20%20%0A%20%20%20%20%0A%20%20%20%20%20%20%20%20%20%20%20%20var%20circle_marker_4b8e72668aeb445cae99771686166360%20%3D%20L.circleMarker%28%0A%20%20%20%20%20%20%20%20%20%20%20%20%20%20%20%20%5B37.5570913%2C%20126.9736575%5D%2C%0A%20%20%20%20%20%20%20%20%20%20%20%20%20%20%20%20%7B%0A%20%20%22bubblingMouseEvents%22%3A%20true%2C%0A%20%20%22color%22%3A%20%22%233186cc%22%2C%0A%20%20%22dashArray%22%3A%20null%2C%0A%20%20%22dashOffset%22%3A%20null%2C%0A%20%20%22fill%22%3A%20false%2C%0A%20%20%22fillColor%22%3A%20%22%233186cc%22%2C%0A%20%20%22fillOpacity%22%3A%200.2%2C%0A%20%20%22fillRule%22%3A%20%22evenodd%22%2C%0A%20%20%22lineCap%22%3A%20%22round%22%2C%0A%20%20%22lineJoin%22%3A%20%22round%22%2C%0A%20%20%22opacity%22%3A%201.0%2C%0A%20%20%22radius%22%3A%20150%2C%0A%20%20%22stroke%22%3A%20true%2C%0A%20%20%22weight%22%3A%203%0A%7D%0A%20%20%20%20%20%20%20%20%20%20%20%20%20%20%20%20%29%0A%20%20%20%20%20%20%20%20%20%20%20%20%20%20%20%20.addTo%28map_2b075d9873124a9dbb1885848a84d71b%29%3B%0A%20%20%20%20%20%20%20%20%20%20%20%20%0A%20%20%20%20%0A%20%20%20%20%20%20%20%20circle_marker_4b8e72668aeb445cae99771686166360.bindTooltip%28%0A%20%20%20%20%20%20%20%20%20%20%20%20%60%3Cdiv%3E%60%0A%20%20%20%20%20%20%20%20%20%20%20%20%2B%20%60%EB%B0%98%EA%B2%BD%20150%60%20%2B%20%60%3C/div%3E%60%2C%0A%20%20%20%20%20%20%20%20%20%20%20%20%7B%22sticky%22%3A%20true%7D%0A%20%20%20%20%20%20%20%20%29%3B%0A%20%20%20%20%20%20%20%20%0A%3C/script%3E onload=\"this.contentDocument.open();this.contentDocument.write(    decodeURIComponent(this.getAttribute('data-html')));this.contentDocument.close();\" allowfullscreen webkitallowfullscreen mozallowfullscreen></iframe></div></div>"
            ],
            "text/plain": [
              "<folium.folium.Map at 0x7ff4561adf10>"
            ]
          },
          "metadata": {},
          "execution_count": 198
        }
      ]
    },
    {
      "cell_type": "code",
      "metadata": {
        "id": "9Ve_tcTSTBAi"
      },
      "source": [
        ""
      ],
      "execution_count": null,
      "outputs": []
    }
  ]
}