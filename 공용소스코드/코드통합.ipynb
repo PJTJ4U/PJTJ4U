{
 "cells": [
  {
   "cell_type": "code",
   "execution_count": 35,
   "metadata": {},
   "outputs": [],
   "source": [
    "# 로컬 환경설정기준으로 작성하였으니 폰트같은 부분은 수정해서 사용하시기 바랍니다.\n",
    "import numpy as np\n",
    "import matplotlib as mpl\n",
    "import matplotlib.pyplot as plt\n",
    "import matplotlib.font_manager as fonm\n",
    "from matplotlib import font_manager, rc\n",
    "mpl.rcParams['axes.unicode_minus'] = False\n",
    "font_path = 'C:/Windows/Fonts/정직_1.ttf'\n",
    "font = fonm.FontProperties(fname=font_path).get_name()\n",
    "rc('font', family=font)\n",
    "import pandas as pd\n",
    "import seaborn as sns\n",
    "\n",
    "import warnings\n",
    "warnings.filterwarnings('ignore')\n",
    "\n",
    "import plotly.graph_objs as go \n",
    "import plotly.express as px"
   ]
  },
  {
   "cell_type": "code",
   "execution_count": 36,
   "metadata": {},
   "outputs": [],
   "source": [
    "# ========================================================= 데이터 시각화 파트 =========================================================\n",
    "df1 = pd.read_excel(\"C:/Workspace/python/빅데이터 지능형서비스 개발 팀프로젝트/PJTJ4U/공용소스코드/Data/01_parcelServiceLogistics.xlsx\")"
   ]
  },
  {
   "cell_type": "code",
   "execution_count": 37,
   "metadata": {},
   "outputs": [
    {
     "data": {
      "text/html": [
       "<div>\n",
       "<style scoped>\n",
       "    .dataframe tbody tr th:only-of-type {\n",
       "        vertical-align: middle;\n",
       "    }\n",
       "\n",
       "    .dataframe tbody tr th {\n",
       "        vertical-align: top;\n",
       "    }\n",
       "\n",
       "    .dataframe thead th {\n",
       "        text-align: right;\n",
       "    }\n",
       "</style>\n",
       "<table border=\"1\" class=\"dataframe\">\n",
       "  <thead>\n",
       "    <tr style=\"text-align: right;\">\n",
       "      <th></th>\n",
       "      <th>연도</th>\n",
       "      <th>전체 택배 물동량</th>\n",
       "      <th>전년대비 증감율</th>\n",
       "      <th>2012년대비 증감율</th>\n",
       "    </tr>\n",
       "  </thead>\n",
       "  <tbody>\n",
       "    <tr>\n",
       "      <th>8</th>\n",
       "      <td>2016</td>\n",
       "      <td>2046660</td>\n",
       "      <td>0.127</td>\n",
       "      <td>0.455682</td>\n",
       "    </tr>\n",
       "    <tr>\n",
       "      <th>9</th>\n",
       "      <td>2017</td>\n",
       "      <td>2319460</td>\n",
       "      <td>0.1333</td>\n",
       "      <td>0.649711</td>\n",
       "    </tr>\n",
       "    <tr>\n",
       "      <th>10</th>\n",
       "      <td>2018</td>\n",
       "      <td>2542780</td>\n",
       "      <td>0.096</td>\n",
       "      <td>0.808546</td>\n",
       "    </tr>\n",
       "    <tr>\n",
       "      <th>11</th>\n",
       "      <td>2019</td>\n",
       "      <td>2789800</td>\n",
       "      <td>0.0972</td>\n",
       "      <td>0.984239</td>\n",
       "    </tr>\n",
       "    <tr>\n",
       "      <th>12</th>\n",
       "      <td>2020</td>\n",
       "      <td>3373730</td>\n",
       "      <td>0.2093</td>\n",
       "      <td>1.399558</td>\n",
       "    </tr>\n",
       "  </tbody>\n",
       "</table>\n",
       "</div>"
      ],
      "text/plain": [
       "      연도 전체 택배 물동량 전년대비 증감율 2012년대비 증감율\n",
       "8   2016   2046660    0.127    0.455682\n",
       "9   2017   2319460   0.1333    0.649711\n",
       "10  2018   2542780    0.096    0.808546\n",
       "11  2019   2789800   0.0972    0.984239\n",
       "12  2020   3373730   0.2093    1.399558"
      ]
     },
     "execution_count": 37,
     "metadata": {},
     "output_type": "execute_result"
    }
   ],
   "source": [
    "df_total = df1.iloc[8:13,6:]\n",
    "df_total.columns = ['연도', '전체 택배 물동량', '전년대비 증감율', '2012년대비 증감율']\n",
    "df_total['전체 택배 물동량'] = df_total['전체 택배 물동량']*10   # 통계 기준이 10000박스인데 우체국은 1000통 단위라 10을 곱함\n",
    "df_total['연도']=df_total.연도.apply(lambda x: x.replace('년', ''))\n",
    "df_total"
   ]
  },
  {
   "cell_type": "code",
   "execution_count": 38,
   "metadata": {},
   "outputs": [
    {
     "data": {
      "image/png": "[encoded data removed]",
      "text/plain": [
       "<Figure size 720x720 with 1 Axes>"
      ]
     },
     "metadata": {
      "needs_background": "light"
     },
     "output_type": "display_data"
    }
   ],
   "source": [
    "#연도별 택배 물동량 변화\n",
    "plt.figure(figsize=(10,10))\n",
    "plt.title('연도별 택배 물동량 변화')\n",
    "plt.bar(df_total['연도'], df_total['전체 택배 물동량'])\n",
    "plt.xlabel('연도')\n",
    "plt.ylabel('전체 택배 물동량')\n",
    "plt.show()"
   ]
  },
  {
   "cell_type": "code",
   "execution_count": 39,
   "metadata": {},
   "outputs": [
    {
     "data": {
      "text/plain": [
       "array(['2016', '2017', '2018', '2019', '2020'], dtype=object)"
      ]
     },
     "execution_count": 39,
     "metadata": {},
     "output_type": "execute_result"
    }
   ],
   "source": [
    "year = df_total['연도'].to_numpy()\n",
    "year"
   ]
  },
  {
   "cell_type": "code",
   "execution_count": 40,
   "metadata": {},
   "outputs": [
    {
     "data": {
      "text/html": [
       "<div>\n",
       "<style scoped>\n",
       "    .dataframe tbody tr th:only-of-type {\n",
       "        vertical-align: middle;\n",
       "    }\n",
       "\n",
       "    .dataframe tbody tr th {\n",
       "        vertical-align: top;\n",
       "    }\n",
       "\n",
       "    .dataframe thead th {\n",
       "        text-align: right;\n",
       "    }\n",
       "</style>\n",
       "<table border=\"1\" class=\"dataframe\">\n",
       "  <thead>\n",
       "    <tr style=\"text-align: right;\">\n",
       "      <th></th>\n",
       "      <th>우편물종별(1)</th>\n",
       "      <th>우편물종별(2)</th>\n",
       "      <th>2016</th>\n",
       "      <th>2017</th>\n",
       "      <th>2018</th>\n",
       "      <th>2019</th>\n",
       "      <th>2020</th>\n",
       "    </tr>\n",
       "  </thead>\n",
       "  <tbody>\n",
       "    <tr>\n",
       "      <th>0</th>\n",
       "      <td>합계</td>\n",
       "      <td>소계</td>\n",
       "      <td>3874115</td>\n",
       "      <td>3706334</td>\n",
       "      <td>3589622</td>\n",
       "      <td>3398070</td>\n",
       "      <td>3114667</td>\n",
       "    </tr>\n",
       "    <tr>\n",
       "      <th>1</th>\n",
       "      <td>일반통상</td>\n",
       "      <td>소계</td>\n",
       "      <td>3378330</td>\n",
       "      <td>3185638</td>\n",
       "      <td>3040933</td>\n",
       "      <td>2801269</td>\n",
       "      <td>2530727</td>\n",
       "    </tr>\n",
       "    <tr>\n",
       "      <th>2</th>\n",
       "      <td>특수통상</td>\n",
       "      <td>소계</td>\n",
       "      <td>277339</td>\n",
       "      <td>276986</td>\n",
       "      <td>276156</td>\n",
       "      <td>272449</td>\n",
       "      <td>265150</td>\n",
       "    </tr>\n",
       "    <tr>\n",
       "      <th>3</th>\n",
       "      <td>소포</td>\n",
       "      <td>소계</td>\n",
       "      <td>218446</td>\n",
       "      <td>243710</td>\n",
       "      <td>272534</td>\n",
       "      <td>324351</td>\n",
       "      <td>318791</td>\n",
       "    </tr>\n",
       "    <tr>\n",
       "      <th>4</th>\n",
       "      <td>소포</td>\n",
       "      <td>보통</td>\n",
       "      <td>1632</td>\n",
       "      <td>1337</td>\n",
       "      <td>1230</td>\n",
       "      <td>1083</td>\n",
       "      <td>1166</td>\n",
       "    </tr>\n",
       "    <tr>\n",
       "      <th>5</th>\n",
       "      <td>소포</td>\n",
       "      <td>등기</td>\n",
       "      <td>216814</td>\n",
       "      <td>242373</td>\n",
       "      <td>271304</td>\n",
       "      <td>323268</td>\n",
       "      <td>317625</td>\n",
       "    </tr>\n",
       "    <tr>\n",
       "      <th>6</th>\n",
       "      <td>재게 (인터넷우체국)</td>\n",
       "      <td>소계</td>\n",
       "      <td>5828</td>\n",
       "      <td>6120</td>\n",
       "      <td>8029</td>\n",
       "      <td>13712</td>\n",
       "      <td>15549</td>\n",
       "    </tr>\n",
       "  </tbody>\n",
       "</table>\n",
       "</div>"
      ],
      "text/plain": [
       "      우편물종별(1) 우편물종별(2)     2016     2017     2018     2019     2020\n",
       "0           합계       소계  3874115  3706334  3589622  3398070  3114667\n",
       "1         일반통상       소계  3378330  3185638  3040933  2801269  2530727\n",
       "2         특수통상       소계   277339   276986   276156   272449   265150\n",
       "3           소포       소계   218446   243710   272534   324351   318791\n",
       "4           소포       보통     1632     1337     1230     1083     1166\n",
       "5           소포       등기   216814   242373   271304   323268   317625\n",
       "6  재게 (인터넷우체국)       소계     5828     6120     8029    13712    15549"
      ]
     },
     "execution_count": 40,
     "metadata": {},
     "output_type": "execute_result"
    }
   ],
   "source": [
    "df2 = pd.read_csv(\"C:/Workspace/python/빅데이터 지능형서비스 개발 팀프로젝트/PJTJ4U/공용소스코드/Data/연도별_물량_현황_국내__20211020141748.csv\", encoding=\"euc-kr\")\n",
    "df2"
   ]
  },
  {
   "cell_type": "code",
   "execution_count": 41,
   "metadata": {},
   "outputs": [
    {
     "data": {
      "text/html": [
       "<div>\n",
       "<style scoped>\n",
       "    .dataframe tbody tr th:only-of-type {\n",
       "        vertical-align: middle;\n",
       "    }\n",
       "\n",
       "    .dataframe tbody tr th {\n",
       "        vertical-align: top;\n",
       "    }\n",
       "\n",
       "    .dataframe thead th {\n",
       "        text-align: right;\n",
       "    }\n",
       "</style>\n",
       "<table border=\"1\" class=\"dataframe\">\n",
       "  <thead>\n",
       "    <tr style=\"text-align: right;\">\n",
       "      <th></th>\n",
       "      <th>연도</th>\n",
       "      <th>우체국 택배 물동량</th>\n",
       "    </tr>\n",
       "  </thead>\n",
       "  <tbody>\n",
       "    <tr>\n",
       "      <th>0</th>\n",
       "      <td>2016</td>\n",
       "      <td>218446</td>\n",
       "    </tr>\n",
       "    <tr>\n",
       "      <th>1</th>\n",
       "      <td>2017</td>\n",
       "      <td>243710</td>\n",
       "    </tr>\n",
       "    <tr>\n",
       "      <th>2</th>\n",
       "      <td>2018</td>\n",
       "      <td>272534</td>\n",
       "    </tr>\n",
       "    <tr>\n",
       "      <th>3</th>\n",
       "      <td>2019</td>\n",
       "      <td>324351</td>\n",
       "    </tr>\n",
       "    <tr>\n",
       "      <th>4</th>\n",
       "      <td>2020</td>\n",
       "      <td>318791</td>\n",
       "    </tr>\n",
       "  </tbody>\n",
       "</table>\n",
       "</div>"
      ],
      "text/plain": [
       "     연도 우체국 택배 물동량\n",
       "0  2016     218446\n",
       "1  2017     243710\n",
       "2  2018     272534\n",
       "3  2019     324351\n",
       "4  2020     318791"
      ]
     },
     "execution_count": 41,
     "metadata": {},
     "output_type": "execute_result"
    }
   ],
   "source": [
    "df_post = df2.iloc[3,2:]\n",
    "df_post = df_post.to_frame().reset_index()\n",
    "df_post = df_post.rename(columns= {'index':'연도', 3:'우체국 택배 물동량'})\n",
    "df_post"
   ]
  },
  {
   "cell_type": "code",
   "execution_count": 42,
   "metadata": {},
   "outputs": [
    {
     "data": {
      "image/png": "[encoded data removed]",
      "text/plain": [
       "<Figure size 720x720 with 1 Axes>"
      ]
     },
     "metadata": {
      "needs_background": "light"
     },
     "output_type": "display_data"
    }
   ],
   "source": [
    "#연도별 우체국 택배 물동량 변화\n",
    "plt.figure(figsize=(10,10))\n",
    "plt.title('연도별 우체국 택배 물동량 변화')\n",
    "plt.bar(df_post['연도'], df_post['우체국 택배 물동량'], color=\"C2\")\n",
    "plt.xlabel('연도')\n",
    "plt.ylabel('우체국 택배 물동량')\n",
    "plt.show()"
   ]
  },
  {
   "cell_type": "code",
   "execution_count": 43,
   "metadata": {},
   "outputs": [
    {
     "data": {
      "text/html": [
       "<div>\n",
       "<style scoped>\n",
       "    .dataframe tbody tr th:only-of-type {\n",
       "        vertical-align: middle;\n",
       "    }\n",
       "\n",
       "    .dataframe tbody tr th {\n",
       "        vertical-align: top;\n",
       "    }\n",
       "\n",
       "    .dataframe thead th {\n",
       "        text-align: right;\n",
       "    }\n",
       "</style>\n",
       "<table border=\"1\" class=\"dataframe\">\n",
       "  <thead>\n",
       "    <tr style=\"text-align: right;\">\n",
       "      <th></th>\n",
       "      <th>연도</th>\n",
       "      <th>전체 택배 물동량</th>\n",
       "      <th>우체국 택배 물동량</th>\n",
       "    </tr>\n",
       "  </thead>\n",
       "  <tbody>\n",
       "    <tr>\n",
       "      <th>0</th>\n",
       "      <td>2016</td>\n",
       "      <td>2046660</td>\n",
       "      <td>218446</td>\n",
       "    </tr>\n",
       "    <tr>\n",
       "      <th>1</th>\n",
       "      <td>2017</td>\n",
       "      <td>2319460</td>\n",
       "      <td>243710</td>\n",
       "    </tr>\n",
       "    <tr>\n",
       "      <th>2</th>\n",
       "      <td>2018</td>\n",
       "      <td>2542780</td>\n",
       "      <td>272534</td>\n",
       "    </tr>\n",
       "    <tr>\n",
       "      <th>3</th>\n",
       "      <td>2019</td>\n",
       "      <td>2789800</td>\n",
       "      <td>324351</td>\n",
       "    </tr>\n",
       "    <tr>\n",
       "      <th>4</th>\n",
       "      <td>2020</td>\n",
       "      <td>3373730</td>\n",
       "      <td>318791</td>\n",
       "    </tr>\n",
       "  </tbody>\n",
       "</table>\n",
       "</div>"
      ],
      "text/plain": [
       "     연도 전체 택배 물동량 우체국 택배 물동량\n",
       "0  2016   2046660     218446\n",
       "1  2017   2319460     243710\n",
       "2  2018   2542780     272534\n",
       "3  2019   2789800     324351\n",
       "4  2020   3373730     318791"
      ]
     },
     "execution_count": 43,
     "metadata": {},
     "output_type": "execute_result"
    }
   ],
   "source": [
    "df_post.columns = ['연도', '우체국 택배 물동량']\n",
    "df_total2 = df_total[['연도', '전체 택배 물동량']]\n",
    "df = pd.merge(df_total2, df_post, left_on='연도', right_on='연도', how='outer')\n",
    "df"
   ]
  },
  {
   "cell_type": "code",
   "execution_count": 44,
   "metadata": {},
   "outputs": [
    {
     "data": {
      "text/plain": [
       "<Figure size 720x720 with 0 Axes>"
      ]
     },
     "metadata": {},
     "output_type": "display_data"
    },
    {
     "data": {
      "image/png": "[encoded data removed]",
      "text/plain": [
       "<Figure size 432x288 with 1 Axes>"
      ]
     },
     "metadata": {
      "needs_background": "light"
     },
     "output_type": "display_data"
    }
   ],
   "source": [
    "#연도별 택배 물동량 변화\n",
    "plt.figure(figsize=(10,10))\n",
    "df.plot(x=\"연도\", y=[\"전체 택배 물동량\", \"우체국 택배 물동량\"], kind=\"bar\")\n",
    "plt.title('연도별 택배 물동량 변화')\n",
    "plt.xlabel('연도')\n",
    "plt.ylabel('물동량')\n",
    "plt.show()"
   ]
  },
  {
   "cell_type": "code",
   "execution_count": 45,
   "metadata": {},
   "outputs": [
    {
     "data": {
      "image/png": "[encoded data removed]",
      "text/plain": [
       "<Figure size 432x288 with 1 Axes>"
      ]
     },
     "metadata": {
      "needs_background": "light"
     },
     "output_type": "display_data"
    }
   ],
   "source": [
    "ax = df.plot(x=\"연도\", y=\"전체 택배 물동량\", kind=\"bar\")\n",
    "df.plot(x=\"연도\", y=\"우체국 택배 물동량\", kind=\"bar\", ax=ax, color=\"C2\")\n",
    "#df.plot(x=\"연도\", y=\"우체국 택배 물동량\", kind=\"bar\", ax=ax, color=\"C3\")\n",
    "\n",
    "plt.show()"
   ]
  },
  {
   "cell_type": "code",
   "execution_count": 46,
   "metadata": {},
   "outputs": [
    {
     "name": "stderr",
     "output_type": "stream",
     "text": [
      "No handles with labels found to put in legend.\n"
     ]
    },
    {
     "data": {
      "image/png": "[encoded data removed]",
      "text/plain": [
       "<Figure size 576x576 with 1 Axes>"
      ]
     },
     "metadata": {},
     "output_type": "display_data"
    }
   ],
   "source": [
    "fig = plt.figure(figsize=(8,8))\n",
    "fig.set_facecolor('white')\n",
    "ax = fig.add_subplot()\n",
    "\n",
    "ax.plot(year, df_total['전체 택배 물동량'])\n",
    "ax.plot(year, df_post['우체국 택배 물동량'])\n",
    "\n",
    "ax.legend()\n",
    "\n",
    "plt.title('택배 물동량 추이')\n",
    "plt.show()"
   ]
  },
  {
   "cell_type": "code",
   "execution_count": 47,
   "metadata": {},
   "outputs": [],
   "source": [
    "# ============================================ 네이버 OCR API활용 송장인식 및 시각화 파트 =============================================\n",
    "# AI 서비스 실행절차(필요함수 선언)\n",
    "\n",
    "# 사진파일 리스트 읽어오기\n",
    "def select_file(path_dir):\n",
    "    import os\n",
    "    file_dir = os.listdir(path_dir)\n",
    "    print('해당되는 파일을 골라주세요.')\n",
    "    for i in range(len(file_dir)):\n",
    "        print(f'{i}번 : {file_dir[i]}')\n",
    "    file_num = int(input())\n",
    "    return file_dir[file_num]\n",
    "\n",
    "# # 해당되는 템플릿 선택하기\n",
    "# def select_template(template_path):s\n",
    "#     import pandas as pd\n",
    "#     import numpy as np\n",
    "#     template = pd.read_csv(template_path, sep = ' ')\n",
    "#     print('해당되는 템플릿을 골라주세요.')\n",
    "#     for i in range(len(template['name'])):\n",
    "#         print(f'{i}번 : {template[\"name\"][i]}')\n",
    "#     template_num = int(input())\n",
    "#     return template['id'][template_num]\n",
    "\n",
    "# NaverAPI서버에 요청\n",
    "def request_NaverOCR(key_path, file_name):\n",
    "    import requests\n",
    "    import uuid\n",
    "    import time\n",
    "    import json\n",
    "\n",
    "    api_url = key_path[key_path['title'] == 'InvokeUrl']['content'][0]\n",
    "    secret_key = key_path[key_path['title'] == 'SecretKey']['content'][1]\n",
    "\n",
    "    image_file = f'C:/Workspace/python/빅데이터 지능형서비스 개발 팀프로젝트/PJTJ4U/공용소스코드/Data/input/{file_name}'\n",
    "    output_file = f'C:/Workspace/python/빅데이터 지능형서비스 개발 팀프로젝트/PJTJ4U/공용소스코드/Data/output/{file_name.split(\".\")[0]+\".json\"}'\n",
    "\n",
    "    request_json = {\n",
    "        'images': [\n",
    "            {\n",
    "                'format': 'jpg',\n",
    "                'name': 'demo',\n",
    "                # 'templateIds': [int(template_id)]\n",
    "            }\n",
    "        ],\n",
    "        'requestId': str(uuid.uuid4()),\n",
    "        'version': 'V2',\n",
    "        'timestamp': int(round(time.time() * 1000))\n",
    "    }\n",
    "\n",
    "    payload = {'message': json.dumps(request_json).encode('UTF-8')}\n",
    "    files = [\n",
    "    ('file', open(image_file,'rb'))\n",
    "    ]\n",
    "    headers = {\n",
    "    'X-OCR-SECRET': secret_key\n",
    "    }\n",
    "\n",
    "    response = requests.request(\"POST\", api_url, headers=headers, data = payload, files = files)\n",
    "\n",
    "    res = json.loads(response.text.encode('utf8'))\n",
    "    # print(res)\n",
    "\n",
    "    with open(output_file, 'w', encoding='utf-8') as outfile:\n",
    "        json.dump(res, outfile, indent=4, ensure_ascii=False)\n",
    "    return output_file\n",
    "\n",
    "def extract_info(output_file):\n",
    "    import json\n",
    "    import pandas as pd\n",
    "    import numpy as np\n",
    "    with open(output_file, 'r', encoding = 'utf-8') as f:\n",
    "        json_data = json.load(f)\n",
    "\n",
    "    ctg_list = []\n",
    "    contents_list = []\n",
    "\n",
    "    for i in range(len(json_data['images'][0]['fields'])):\n",
    "        ctg_list.append(json_data['images'][0]['fields'][i]['name'])\n",
    "        contents_list.append(json_data['images'][0]['fields'][i]['inferText'])\n",
    "    df_info = pd.DataFrame([contents_list], columns = ctg_list)\n",
    "    df_info['보내는분 주소'] = df_info['보내는분 주소'].apply(lambda x: x.split('\\n')[0])\n",
    "    df_info['받는분 주소'] = df_info['받는분 주소'].apply(lambda x: x.split('\\n')[0])\n",
    "    return pd.DataFrame(df_info)\n",
    "\n",
    "# 도로명 주소 받아오기\n",
    "def juso_addr(df_info, juso_api_key):\n",
    "    import pandas as pd\n",
    "    import numpy as np\n",
    "    import requests\n",
    "    from urllib.parse import quote\n",
    "    road_url = 'https://www.juso.go.kr/addrlink/addrLinkApi.do'\n",
    "    addr_list = []\n",
    "    with open(juso_api_key) as f:\n",
    "        api_key = f.read()\n",
    "    df_info['도로명주소(보내는분)'] = [0 for _ in range(len(df_info['보내는분 주소']))]\n",
    "    df_info['도로명주소(받는분)'] = [0 for _ in range(len(df_info['받는분 주소']))]\n",
    "    for i in range(len(df_info['보내는분 주소'])):\n",
    "        try:\n",
    "            option = f'confmKey={api_key}&currentPage=1&countPerPage=10&keyword={quote(df_info[\"보내는분 주소\"][i])}' # f스트링에서 &을 통해 연결\n",
    "            url = f'{road_url}?{option}&resultType=json'\n",
    "            result = requests.get(url).json()\n",
    "            addr = result['results']['juso'][0]['roadAddr']    \n",
    "            df_info['도로명주소(보내는분)'][i] = addr\n",
    "        except:\n",
    "            print(i)\n",
    "    for i in range(len(df_info['받는분 주소'])):\n",
    "        try:\n",
    "            option = f'confmKey={api_key}&currentPage=1&countPerPage=10&keyword={quote(df_info[\"받는분 주소\"][i])}' # f스트링에서 &을 통해 연결\n",
    "            url = f'{road_url}?{option}&resultType=json'\n",
    "            result = requests.get(url).json()\n",
    "            addr = result['results']['juso'][0]['roadAddr']    \n",
    "            df_info['도로명주소(받는분)'][i] = addr\n",
    "        except:\n",
    "            print(i)\n",
    "    df_info1 = df_info.copy()\n",
    "    return df_info1\n",
    "\n",
    "# 카카오 API활용 위도,경도 받아오기\n",
    "def location_point(df_info1, kakao_api_key):\n",
    "    import pandas as pd\n",
    "    import numpy as np\n",
    "    import requests\n",
    "    from urllib.parse import quote\n",
    "    search_url = 'https://dapi.kakao.com/v2/local/search/address.json'\n",
    "    df_info = df_info1.copy()\n",
    "    with open(kakao_api_key) as f:\n",
    "        api_key2 = f.read()\n",
    "    lat_list, lng_list = [], []\n",
    "    for i in range(len(df_info['도로명주소(보내는분)'])):\n",
    "        try:\n",
    "            url = f'{search_url}?query={quote(df_info[\"도로명주소(보내는분)\"][i])}'\n",
    "            result = requests.get(url,\n",
    "                            headers = {'Authorization': f'KakaoAK {api_key2}'}).json()\n",
    "            lng = float(result['documents'][0]['x']) # 경도\n",
    "            lng_list.append(lng)\n",
    "            lat = float(result['documents'][0]['y']) # 위도\n",
    "            lat_list.append(lat)\n",
    "        except:\n",
    "            lng, lat = 0, 0\n",
    "            lng_list.append(lng)\n",
    "            lat_list.append(lat)\n",
    "    df_info['위도(보내는분)'] = lat_list\n",
    "    df_info['경도(보내는분)'] = lng_list\n",
    "\n",
    "    lat_list, lng_list = [], []\n",
    "    for i in range(len(df_info['도로명주소(받는분)'])):\n",
    "        try:\n",
    "            url = f'{search_url}?query={quote(df_info[\"도로명주소(받는분)\"][i])}'\n",
    "            result = requests.get(url,\n",
    "                            headers = {'Authorization': f'KakaoAK {api_key2}'}).json()\n",
    "            lng = float(result['documents'][0]['x']) # 경도\n",
    "            lng_list.append(lng)\n",
    "            lat = float(result['documents'][0]['y']) # 위도\n",
    "            lat_list.append(lat)\n",
    "        except:\n",
    "            lng, lat = 0, 0\n",
    "            lng_list.append(lng)\n",
    "            lat_list.append(lat)\n",
    "    df_info['위도(받는분)'] = lat_list\n",
    "    df_info['경도(받는분)'] = lng_list\n",
    "    df_info2 = df_info.copy()\n",
    "    return df_info2\n",
    "\n",
    "# 지도에 위치표시(보내는분, 받는분)\n",
    "def point_map(df_info2, zoom_size):\n",
    "    import folium\n",
    "    df_info = df_info2.copy()\n",
    "    location = [(df_info['위도(보내는분)'].mean() + df_info['위도(받는분)'].mean()) / 2, (df_info['경도(보내는분)'].mean() + df_info['경도(받는분)'].mean()) / 2]\n",
    "    map = folium.Map(location = location, zoom_start = zoom_size)\n",
    "    map\n",
    "    for i in range(len(df_info['도로명주소(보내는분)'])):\n",
    "        folium.Marker(\n",
    "            location = [df_info['위도(보내는분)'][i], df_info['경도(보내는분)'][i]], # 위도, 경도\n",
    "            popup =  folium.Popup(f'보내는사람 : {df_info[\"보내는분 성명\"][i]}', max_width = 200),\n",
    "            tooltip = f'주소 : {df_info[\"도로명주소(보내는분)\"][i]}',\n",
    "            icon = folium.Icon(color = 'blue', info = 'info-sign'),\n",
    "        ).add_to(map)\n",
    "    for i in range(len(df_info['도로명주소(받는분)'])):\n",
    "        folium.Marker(\n",
    "            location = [df_info['위도(받는분)'][i], df_info['경도(받는분)'][i]], # 위도, 경도\n",
    "            popup =  folium.Popup(f'받는사람 : {df_info[\"받는분 성명\"][i]}', max_width = 200),\n",
    "            tooltip = f'주소 : {df_info[\"도로명주소(받는분)\"][i]}',\n",
    "            icon = folium.Icon(color = 'red', info = 'info-sign'),\n",
    "        ).add_to(map)\n",
    "    return map"
   ]
  },
  {
   "cell_type": "code",
   "execution_count": 48,
   "metadata": {},
   "outputs": [],
   "source": [
    "# # 필요패키지 로드\n",
    "# import pandas as pd\n",
    "# import numpy as np\n",
    "\n",
    "# # 파일선택 후 API를 요청하여 추출정보 받아오기\n",
    "# path_dir = 'C:/Workspace/python/빅데이터 지능형서비스 개발 팀프로젝트/PJTJ4U/공용소스코드/Data/input'\n",
    "# template_path = 'C:/Workspace/python/빅데이터 지능형서비스 개발 팀프로젝트/PJTJ4U/공용소스코드/Data/Template(Naver_OCR).txt'\n",
    "# key_path = pd.read_csv('C:/Workspace/python/빅데이터 지능형서비스 개발 팀프로젝트/PJTJ4U/공용소스코드/Data/Key_URL(Naver_OCR).txt', sep = '_')\n",
    "# file_name = select_file(path_dir)\n",
    "# juso_api_key = 'C:/Workspace/python/빅데이터 지능형서비스 개발 팀프로젝트/PJTJ4U/공용소스코드/Data/roadapikey.txt'\n",
    "# kakao_api_key = 'C:/Workspace/python/빅데이터 지능형서비스 개발 팀프로젝트/PJTJ4U/공용소스코드/Data/kakaoapikey.txt'\n",
    "\n",
    "# # template_id = select_template(template_path)\n",
    "# output_file = request_NaverOCR(key_path, file_name)\n",
    "# df_info = extract_info(output_file)\n",
    "# df_info1 = juso_addr(df_info, juso_api_key)\n",
    "# df_info2 = location_point(df_info1, kakao_api_key)\n",
    "# map = point_map(df_info2, 11)\n",
    "# map"
   ]
  },
  {
   "cell_type": "code",
   "execution_count": 49,
   "metadata": {},
   "outputs": [],
   "source": [
    "# 네이버 API 이용\n",
    "idpw_link = 'C:/Workspace/python/빅데이터 지능형서비스 개발 팀프로젝트/PJTJ4U/공용소스코드/Data/api_key.xlsx'\n",
    "idpw = pd.read_excel(idpw_link, sheet_name='PJTJ4U')"
   ]
  },
  {
   "cell_type": "code",
   "execution_count": 50,
   "metadata": {},
   "outputs": [],
   "source": [
    "import urllib.request\n",
    "import json\n",
    "\n",
    "client_id, client_secret = idpw.iloc[3,3], idpw.iloc[7,3]\n",
    "\n",
    "def search_map(search_text):\n",
    "    encText = urllib.parse.quote(search_text) \n",
    "    url = 'https://naveropenapi.apigw.ntruss.com/map-geocode/v2/geocode?query='+encText\n",
    "\n",
    "    request = urllib.request.Request(url)\n",
    "    request.add_header('X-NCP-APIGW-API-KEY-ID', client_id)\n",
    "    request.add_header('X-NCP-APIGW-API-KEY', client_secret)\n",
    "\n",
    "    response = urllib.request.urlopen(request)\n",
    "    rescode = response.getcode()\n",
    "\n",
    "    if(rescode==200):\n",
    "        response_body = response.read().decode('utf-8')\n",
    "        response_body = json.loads(response_body)\n",
    "        return response_body\n",
    "    else:\n",
    "        print(\"Error Code:\" + rescode)"
   ]
  },
  {
   "cell_type": "code",
   "execution_count": 51,
   "metadata": {},
   "outputs": [
    {
     "data": {
      "text/plain": [
       "{'status': 'OK',\n",
       " 'meta': {'totalCount': 1, 'page': 1, 'count': 1},\n",
       " 'addresses': [{'roadAddress': '서울특별시 중구 세종대로 110 서울특별시청',\n",
       "   'jibunAddress': '서울특별시 중구 태평로1가 31 서울특별시청',\n",
       "   'englishAddress': '110, Sejong-daero, Jung-gu, Seoul, Republic of Korea',\n",
       "   'addressElements': [{'types': ['SIDO'],\n",
       "     'longName': '서울특별시',\n",
       "     'shortName': '서울특별시',\n",
       "     'code': ''},\n",
       "    {'types': ['SIGUGUN'], 'longName': '중구', 'shortName': '중구', 'code': ''},\n",
       "    {'types': ['DONGMYUN'],\n",
       "     'longName': '태평로1가',\n",
       "     'shortName': '태평로1가',\n",
       "     'code': ''},\n",
       "    {'types': ['RI'], 'longName': '', 'shortName': '', 'code': ''},\n",
       "    {'types': ['ROAD_NAME'],\n",
       "     'longName': '세종대로',\n",
       "     'shortName': '세종대로',\n",
       "     'code': ''},\n",
       "    {'types': ['BUILDING_NUMBER'],\n",
       "     'longName': '110',\n",
       "     'shortName': '110',\n",
       "     'code': ''},\n",
       "    {'types': ['BUILDING_NAME'],\n",
       "     'longName': '서울특별시청',\n",
       "     'shortName': '서울특별시청',\n",
       "     'code': ''},\n",
       "    {'types': ['LAND_NUMBER'],\n",
       "     'longName': '31',\n",
       "     'shortName': '31',\n",
       "     'code': ''},\n",
       "    {'types': ['POSTAL_CODE'],\n",
       "     'longName': '04524',\n",
       "     'shortName': '04524',\n",
       "     'code': ''}],\n",
       "   'x': '126.9783882',\n",
       "   'y': '37.5666103',\n",
       "   'distance': 0.0}],\n",
       " 'errorMessage': ''}"
      ]
     },
     "execution_count": 51,
     "metadata": {},
     "output_type": "execute_result"
    }
   ],
   "source": [
    "user = search_map(\"서울 중구 세종대로 110\")\n",
    "user"
   ]
  },
  {
   "cell_type": "code",
   "execution_count": 52,
   "metadata": {},
   "outputs": [
    {
     "data": {
      "text/plain": [
       "(521434, 521434)"
      ]
     },
     "execution_count": 52,
     "metadata": {},
     "output_type": "execute_result"
    }
   ],
   "source": [
    "# ================================================= 주소오타 수정목적 유사도 비교파트 =================================================\n",
    "# 해당부분은 필요 패키지가 매우 많고, 복잡합니다. 관심있으신 분들은 따로 연락주시면 자료 및 사용패키지관련해서 알려드리겠습니다.\n",
    "import torch\n",
    "import numpy as np\n",
    "import pandas as pd\n",
    "embedding_jibun = np.load('C:/Workspace/python/빅데이터 지능형서비스 개발 팀프로젝트/PJTJ4U/공용소스코드/Data/embedding_result(지번).npy')\n",
    "embedding_jibun.shape\n",
    "df = pd.read_csv('C:/Workspace/python/빅데이터 지능형서비스 개발 팀프로젝트/PJTJ4U/공용소스코드/Data/주소변환완료.csv')\n",
    "sentences = [juso for juso in df['지번주소']]\n",
    "len(sentences), len(set(sentences)) # 중복값 확인"
   ]
  },
  {
   "cell_type": "code",
   "execution_count": 53,
   "metadata": {},
   "outputs": [],
   "source": [
    "# Sentence-BERT: Sentence Embeddings using Siamese BERT-Networks\n",
    "# 출처 : https://github.com/UKPLab/sentence-transformers\n",
    "from sentence_transformers import SentenceTransformer, util\n",
    "model = SentenceTransformer('all-mpnet-base-v2')"
   ]
  },
  {
   "cell_type": "code",
   "execution_count": 54,
   "metadata": {},
   "outputs": [
    {
     "name": "stdout",
     "output_type": "stream",
     "text": [
      "'서웅시 강남구 영삼동 718-5'과 가장 유사한 주소(유사도 : [0.9771481156349182] : '서울특별시 강남구 역삼동 718-5'\n"
     ]
    }
   ],
   "source": [
    "input = '서웅시 강남구 영삼동 718-5'\n",
    "# input_embeddings = model.encode(input, convert_to_tensor = True)\n",
    "input_embeddings = model.encode(input)\n",
    "# input_embeddings = input_embeddings.cpu().numpy()\n",
    "from sklearn.metrics.pairwise import cosine_similarity\n",
    "input_embeddings = np.expand_dims(input_embeddings, axis = 0) \n",
    "cosine_scores = cosine_similarity(embedding_jibun, input_embeddings)\n",
    "cosine_scores_list= cosine_scores.tolist()\n",
    "print(f\"'{input}'과 가장 유사한 주소(유사도 : {max(cosine_scores_list)} : '{sentences[cosine_scores_list.index(max(cosine_scores_list))]}'\")"
   ]
  },
  {
   "cell_type": "code",
   "execution_count": 55,
   "metadata": {},
   "outputs": [],
   "source": [
    "# ===================================================== 네이버 보이스 AI 사용파트 =====================================================\n",
    "import urllib.request\n",
    "from datetime import datetime\n",
    "\n",
    "idpw_link = 'C:/Workspace/python/빅데이터 지능형서비스 개발 팀프로젝트/PJTJ4U/공용소스코드/Data/api_key.xlsx'\n",
    "idpw = pd.read_excel(idpw_link, sheet_name='PJTJ4U')\n",
    "client_id, client_secret = idpw.iloc[3,3], idpw.iloc[7,3]\n",
    "\n",
    "def naver_tts(voice_text,speaker='nara_call'):\n",
    "    encText = urllib.parse.quote(voice_text)\n",
    "    data = f'speaker={speaker}&volume=0&speed=0&pitch=0&format=mp3&text={encText}'\n",
    "    url = 'https://naveropenapi.apigw.ntruss.com/tts-premium/v1/tts'\n",
    "\n",
    "    request = urllib.request.Request(url)\n",
    "    request.add_header('X-NCP-APIGW-API-KEY-ID', client_id)\n",
    "    request.add_header('X-NCP-APIGW-API-KEY', client_secret)\n",
    "\n",
    "    response = urllib.request.urlopen(request, data=data.encode('utf-8'))\n",
    "    rescode = response.getcode()\n",
    "\n",
    "    if(rescode==200):\n",
    "        response_body = response.read()\n",
    "        now = datetime.now()\n",
    "        # 파일을 저장할 위치 지정\n",
    "        with open(f\"C:/Workspace/python/빅데이터 지능형서비스 개발 팀프로젝트/PJTJ4U/공용소스코드/Data/{now.year}.{now.month:02d}.{now.day:02d}_{(now.hour+9)%24:02d}.{now.minute:02d}.{now.second:02d}_{speaker}.mp3\", 'wb') as f:\n",
    "            f.write(response_body)\n",
    "        print(f'TTS_{speaker}.mp3 저장')\n",
    "    else:\n",
    "        print(\"Error Code:\" + rescode)"
   ]
  },
  {
   "cell_type": "code",
   "execution_count": 56,
   "metadata": {},
   "outputs": [
    {
     "name": "stdout",
     "output_type": "stream",
     "text": [
      "TTS_nara_call.mp3 저장\n"
     ]
    }
   ],
   "source": [
    "# text = '저희 홈페이지를 방문해주셔서 감사합니다. 서비스와 관련된 사항이 궁금하시면 아래 이메일로 연락주시기 바랍니다.'\n",
    "# naver_tts(text)"
   ]
  }
 ],
 "metadata": {
  "interpreter": {
   "hash": "fe3bab233825460445dbfeea6dcd52ef5815a3fa13c858fea07ac830aa383284"
  },
  "kernelspec": {
   "display_name": "Python 3.8.10 64-bit ('base': conda)",
   "name": "python3"
  },
  "language_info": {
   "codemirror_mode": {
    "name": "ipython",
    "version": 3
   },
   "file_extension": ".py",
   "mimetype": "text/x-python",
   "name": "python",
   "nbconvert_exporter": "python",
   "pygments_lexer": "ipython3",
   "version": "3.8.10"
  },
  "orig_nbformat": 4
 },
 "nbformat": 4,
 "nbformat_minor": 2
}
